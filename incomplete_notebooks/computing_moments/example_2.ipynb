{
 "cells": [
  {
   "cell_type": "markdown",
   "metadata": {},
   "source": [
    "# Example 2: UQ of a CFD problem with two input parameters"
   ]
  },
  {
   "cell_type": "code",
   "execution_count": 1,
   "metadata": {},
   "outputs": [],
   "source": [
    "from equadratures import *\n",
    "import numpy as np\n",
    "import matplotlib.pyplot as plt\n",
    "import warnings\n",
    "from copy import deepcopy\n",
    "warnings.filterwarnings(\"ignore\")\n",
    "\n",
    "#%matplotlib notebook"
   ]
  },
  {
   "cell_type": "markdown",
   "metadata": {},
   "source": [
    "## 1. Defining our parameters"
   ]
  },
  {
   "cell_type": "markdown",
   "metadata": {},
   "source": [
    "Again, we don't have any prior knowledge of what $\\hat{\\nu}/\\nu$ should be, except for that it lies in the range 1 to 100, so lets set it as a uniform distribution."
   ]
  },
  {
   "cell_type": "code",
   "execution_count": 2,
   "metadata": {},
   "outputs": [
    {
     "name": "stdout",
     "output_type": "stream",
     "text": [
      "is a uniform distribution over the support 1.0 to 100.\n"
     ]
    }
   ],
   "source": [
    "# Define nut/nu as a parameter called s1\n",
    "s1 = Parameter(???) #turb2lamviscosity\n",
    "print(s1.get_description())"
   ]
  },
  {
   "cell_type": "markdown",
   "metadata": {},
   "source": [
    "For $Ti$ we know it is somewhere around $Ti \\approx 10\\%$, but don't have much confidence in this. Therefore lets define it as a Gaussian with mean=10 and variance=5.  "
   ]
  },
  {
   "cell_type": "code",
   "execution_count": 3,
   "metadata": {},
   "outputs": [
    {
     "data": {
      "image/png": "[encoded data removed]",
      "text/plain": [
       "<Figure size 432x288 with 1 Axes>"
      ]
     },
     "metadata": {
      "needs_background": "light"
     },
     "output_type": "display_data"
    },
    {
     "name": "stdout",
     "output_type": "stream",
     "text": [
      "is a Gaussian distribution with a mean of 10 and a variance of 5.\n"
     ]
    }
   ],
   "source": [
    "# Define Ti as a parameter called s2, with a Gaussian distribution. \n",
    "# You'll need the args shape_parameter_A and shape_parameter_B.\n",
    "s2 = ??? #Ti\n",
    "\n",
    "# PDF of s2 is plotted here\n",
    "z2_samples = s2.get_samples(9000)\n",
    "n, bins, patches = plt.hist(z2_samples, 50, density=True, facecolor='lime', alpha=0.75, edgecolor='k')\n",
    "plt.xlabel(r'$Ti (\\%)$', fontsize=15)\n",
    "plt.ylabel('PDF', fontsize=15)\n",
    "plt.show()\n",
    "print(s2.get_description())"
   ]
  },
  {
   "cell_type": "markdown",
   "metadata": {},
   "source": [
    "## 2. Defining a basis"
   ]
  },
  {
   "cell_type": "markdown",
   "metadata": {},
   "source": [
    "This is now a multivariate problem so we shall use the ``tensor-grid`` basis instead of the ``univariate`` used previously. "
   ]
  },
  {
   "cell_type": "code",
   "execution_count": 4,
   "metadata": {},
   "outputs": [],
   "source": [
    "# Define a Basis object\n",
    "mybasis = ???"
   ]
  },
  {
   "cell_type": "markdown",
   "metadata": {},
   "source": [
    "## 3. Defining a polynomial and getting DOE points"
   ]
  },
  {
   "cell_type": "markdown",
   "metadata": {},
   "source": [
    "As in example 1 and 2, we need to define a Poly object and get the DOE points. \n",
    "\n",
    "Notice how now we have 16 CFD evaluations to do instead of 4. "
   ]
  },
  {
   "cell_type": "code",
   "execution_count": 5,
   "metadata": {},
   "outputs": [
    {
     "name": "stdout",
     "output_type": "stream",
     "text": [
      "SA ratio \t Ti\n",
      "[[ 7.87375258  4.78009112]\n",
      " [ 7.87375258  8.34091854]\n",
      " [ 7.87375258 11.65908146]\n",
      " [ 7.87375258 15.21990888]\n",
      " [33.67093834  4.78009112]\n",
      " [33.67093834  8.34091854]\n",
      " [33.67093834 11.65908146]\n",
      " [33.67093834 15.21990888]\n",
      " [67.32906166  4.78009112]\n",
      " [67.32906166  8.34091854]\n",
      " [67.32906166 11.65908146]\n",
      " [67.32906166 15.21990888]\n",
      " [93.12624742  4.78009112]\n",
      " [93.12624742  8.34091854]\n",
      " [93.12624742 11.65908146]\n",
      " [93.12624742 15.21990888]]\n"
     ]
    }
   ],
   "source": [
    "# Define a Poly object\n",
    "mypoly = ???\n",
    "\n",
    "# Get the DOE points\n",
    "pts = mypoly.get_points()\n",
    "\n",
    "# Print and save to file\n",
    "print('SA ratio \\t Ti')\n",
    "print(pts)\n",
    "np.save('points_to_run.npy', pts)"
   ]
  },
  {
   "cell_type": "code",
   "execution_count": 6,
   "metadata": {},
   "outputs": [
    {
     "data": {
      "image/png": "[encoded data removed]",
      "text/plain": [
       "<Figure size 432x288 with 1 Axes>"
      ]
     },
     "metadata": {
      "needs_background": "light"
     },
     "output_type": "display_data"
    }
   ],
   "source": [
    "# Plot the DOE points\n",
    "plt.plot(pts[:,0], pts[:,1], 'bo', markersize=15)\n",
    "plt.xlabel(r'$\\hat{\\nu}/\\nu$', fontsize=15)\n",
    "plt.ylabel(r'$Ti (\\%)$', fontsize=15)\n",
    "plt.show()"
   ]
  },
  {
   "cell_type": "markdown",
   "metadata": {},
   "source": [
    "## 4. Finding the polynomial coefficients"
   ]
  },
  {
   "cell_type": "code",
   "execution_count": 7,
   "metadata": {},
   "outputs": [
    {
     "name": "stdout",
     "output_type": "stream",
     "text": [
      "SA ratio \t Ti \t\t Y_p\n",
      "[[7.87375258e+00 4.78009112e+00 5.30310580e-02]\n",
      " [7.87375258e+00 8.34091854e+00 5.28644236e-02]\n",
      " [7.87375258e+00 1.16590815e+01 5.26925252e-02]\n",
      " [7.87375258e+00 1.52199089e+01 5.24967211e-02]\n",
      " [3.36709383e+01 4.78009112e+00 5.32419115e-02]\n",
      " [3.36709383e+01 8.34091854e+00 5.32333854e-02]\n",
      " [3.36709383e+01 1.16590815e+01 5.30672169e-02]\n",
      " [3.36709383e+01 1.52199089e+01 5.28340593e-02]\n",
      " [6.73290617e+01 4.78009112e+00 5.32581624e-02]\n",
      " [6.73290617e+01 8.34091854e+00 5.33894321e-02]\n",
      " [6.73290617e+01 1.16590815e+01 5.32981622e-02]\n",
      " [6.73290617e+01 1.52199089e+01 5.30067064e-02]\n",
      " [9.31262474e+01 4.78009112e+00 5.32606790e-02]\n",
      " [9.31262474e+01 8.34091854e+00 5.34980151e-02]\n",
      " [9.31262474e+01 1.16590815e+01 5.34417742e-02]\n",
      " [9.31262474e+01 1.52199089e+01 5.32224419e-02]]\n"
     ]
    }
   ],
   "source": [
    "# Load the Yp array from file\n",
    "Yp = np.load('lossarray_sst.npy').reshape(-1, 1)\n",
    "\n",
    "# Print the Yp array\n",
    "print('SA ratio \\t Ti \\t\\t Y_p')\n",
    "print(np.hstack([pts,Yp]))"
   ]
  },
  {
   "cell_type": "markdown",
   "metadata": {},
   "source": [
    "Pass the model evaluations back to ``mypoly`` with ``set_model()``."
   ]
  },
  {
   "cell_type": "code",
   "execution_count": 8,
   "metadata": {},
   "outputs": [],
   "source": [
    "???"
   ]
  },
  {
   "cell_type": "markdown",
   "metadata": {},
   "source": [
    "## 5. Computing the moments"
   ]
  },
  {
   "cell_type": "code",
   "execution_count": 9,
   "metadata": {},
   "outputs": [
    {
     "name": "stdout",
     "output_type": "stream",
     "text": [
      "0.053190749833244844 5.714480753272688e-08\n"
     ]
    }
   ],
   "source": [
    "mean, var = ???\n",
    "print(mean, var)"
   ]
  },
  {
   "cell_type": "markdown",
   "metadata": {},
   "source": [
    "## 6. Dealing with invalid samples"
   ]
  },
  {
   "cell_type": "markdown",
   "metadata": {},
   "source": [
    "Now, what happens if some of the CFD values are NaNs? To simulate this, we simply pick a few random entries of the ``Yp`` array and set them to be NaN."
   ]
  },
  {
   "cell_type": "code",
   "execution_count": 1,
   "metadata": {},
   "outputs": [
    {
     "ename": "SyntaxError",
     "evalue": "invalid syntax (<ipython-input-1-3648cf9fa182>, line 2)",
     "output_type": "error",
     "traceback": [
      "\u001b[0;36m  File \u001b[0;32m\"<ipython-input-1-3648cf9fa182>\"\u001b[0;36m, line \u001b[0;32m2\u001b[0m\n\u001b[0;31m    indices = [???]\u001b[0m\n\u001b[0m               ^\u001b[0m\n\u001b[0;31mSyntaxError\u001b[0m\u001b[0;31m:\u001b[0m invalid syntax\n"
     ]
    }
   ],
   "source": [
    "# Enter list of points you want to set to NaN here (0 to 15)\n",
    "indices = [???]\n",
    "indices_to_set_to_NaN = np.asarray(indices)\n",
    "\n",
    "# Set chosen points to NaN\n",
    "Yp_with_NaNs = deepcopy(Yp)\n",
    "Yp_with_NaNs[indices_to_set_to_NaN] = np.nan * indices_to_set_to_NaN.reshape(len(indices_to_set_to_NaN),1)\n",
    "\n",
    "# Plot the DOE points\n",
    "NaN = np.isnan(Yp_with_NaNs).flatten()\n",
    "plt.plot(pts[~NaN,0], pts[~NaN,1], 'bo', markersize=15,label='Not NaN')\n",
    "plt.plot(pts[NaN,0], pts[NaN,1], 'rx', markersize=15,label='NaN')\n",
    "plt.xlabel(r'$\\hat{\\nu}/\\nu$', fontsize=15)\n",
    "plt.ylabel(r'$Ti (\\%)$', fontsize=15)\n",
    "plt.legend(loc='upper center')\n",
    "plt.ylim([2,20])\n",
    "plt.show()"
   ]
  },
  {
   "cell_type": "markdown",
   "metadata": {},
   "source": [
    "Now pass the ``Yp_with_NaNs`` array to ``mypoly`` with ``set_model()``."
   ]
  },
  {
   "cell_type": "code",
   "execution_count": 12,
   "metadata": {},
   "outputs": [
    {
     "name": "stdout",
     "output_type": "stream",
     "text": [
      "WARNING: One or more of your model evaluations have resulted in an NaN. We found 4 NaNs out of 16.\n",
      "The code will now use a least-squares technique that will ignore input-output pairs of your model that have NaNs. This will likely compromise computed statistics.\n"
     ]
    }
   ],
   "source": [
    "???"
   ]
  },
  {
   "cell_type": "markdown",
   "metadata": {},
   "source": [
    "Lets compute the moments and see how accurate they are compared to the case without NaNs."
   ]
  },
  {
   "cell_type": "code",
   "execution_count": 13,
   "metadata": {},
   "outputs": [
    {
     "name": "stdout",
     "output_type": "stream",
     "text": [
      "Original  mean = 0.05319, Original  variance = 5.714e-08\n",
      "With NaNs mean = 0.05321, With NaNs variance = 5.930e-08\n",
      "Errors: mean = 0.03%, variance = 3.77%\n"
     ]
    }
   ],
   "source": [
    "# Compute moments\n",
    "mean_with_NaNs, var_with_NaNs = ???\n",
    "\n",
    "# Print\n",
    "print('Original  mean = %.5f, Original  variance = %.3e' %(mean,var))\n",
    "print('With NaNs mean = %.5f, With NaNs variance = %.3e' %(mean_with_NaNs,var_with_NaNs))\n",
    "err_mean = 100.*(mean_with_NaNs-mean)/mean\n",
    "err_var  = 100.*(var_with_NaNs -var) /var\n",
    "print('Errors: mean = %.2f%%, variance = %.2f%%' %(err_mean,err_var))"
   ]
  }
 ],
 "metadata": {
  "kernelspec": {
   "display_name": "Python 3",
   "language": "python",
   "name": "python3"
  },
  "language_info": {
   "codemirror_mode": {
    "name": "ipython",
    "version": 3
   },
   "file_extension": ".py",
   "mimetype": "text/x-python",
   "name": "python",
   "nbconvert_exporter": "python",
   "pygments_lexer": "ipython3",
   "version": "3.7.0"
  }
 },
 "nbformat": 4,
 "nbformat_minor": 2
}
