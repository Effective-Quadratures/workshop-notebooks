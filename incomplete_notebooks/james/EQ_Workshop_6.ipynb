{
 "cells": [
  {
   "cell_type": "markdown",
   "metadata": {
    "collapsed": true
   },
   "source": [
    "<h1>Surrogate-Based Optimisation</h1>"
   ]
  },
  {
   "cell_type": "code",
   "execution_count": 2,
   "metadata": {},
   "outputs": [],
   "source": [
    "from equadratures import *\n",
    "import numpy as np"
   ]
  },
  {
   "cell_type": "markdown",
   "metadata": {},
   "source": [
    "**Example 1: Constrained optimisation of Poly object with custom constraint functions**\n",
    "\n",
    "We will demonstrate how to use the Optimisation class to solve the following optimisation problem\n",
    "\n",
    "\\begin{eqnarray}\n",
    "    \\min_{s_1,s_2} \t\\quad    \t& f(s_1, s_2) \t\\\\\n",
    "    \\textrm{ subject to } \t& (s_1-1)^3 - s_2 \\leq 5 \t\\\\\n",
    "                            & s_1 + s_1 = 2 \t\t\t\t\\\\\n",
    "                            & -1 \\leq s_1 \\leq 1 \t\t\t\\\\\n",
    "                            & -1 \\leq s_2 \\leq 1.\n",
    "\\end{eqnarray}\n",
    "\n",
    "where $f(s_1, s_2)$ is a Poly object and we will manually define the constraints. In this case, we will again use the 2D Styblinski-Tang function\n",
    "$$f(\\mathbf{s}) = \\frac{1}{2} \\sum_{i=1}^2 s_i^4 - 16s_i^2 + 5s_i$$\n",
    "where each variable $s_1,s_2$ is uniformly distributed between $[-1,1]$. We will use 50 random samples to construct this fourth order Poly object."
   ]
  },
  {
   "cell_type": "code",
   "execution_count": 3,
   "metadata": {},
   "outputs": [],
   "source": [
    "from functions import StyblinskiTang\n",
    "\n",
    "dims = 2\n",
    "N = 50\n",
    "poly_order = 4\n",
    "S = np.random.uniform(-1,1,(N,dims))\n",
    "y = evaluate_model(S, StyblinskiTang)"
   ]
  },
  {
   "cell_type": "markdown",
   "metadata": {},
   "source": [
    "Defining the parameters and basis as before, we can compute the coefficients of the polynomial model via a Poly object."
   ]
  },
  {
   "cell_type": "code",
   "execution_count": 4,
   "metadata": {},
   "outputs": [],
   "source": [
    "my_params = [Parameter(poly_order, distribution='uniform',lower=-1.0, upper=1.0)\\\n",
    " for _ in range(dims)]\n",
    "my_basis = Basis('total-order')\n",
    "my_poly = Poly(my_params, my_basis, method='least-squares', sampling_args={'sample-points':S,\n",
    "                                                                          'sample-outputs':y})\n",
    "my_poly.set_model()"
   ]
  },
  {
   "cell_type": "markdown",
   "metadata": {},
   "source": [
    "Now that the polynomial surrogate model has been constructed for our objective, we can manually define our constraints."
   ]
  },
  {
   "cell_type": "code",
   "execution_count": 5,
   "metadata": {},
   "outputs": [],
   "source": [
    "def NonlinearConstraint(s):\n",
    "    return 5.0 - (S[0]-1.0)**3 + S[1] "
   ]
  },
  {
   "cell_type": "markdown",
   "metadata": {},
   "source": [
    "Note that we write nonlinear constraints in the form $g(\\mathbf{s}) \\geq 0$ as this is the form required by Scipy."
   ]
  },
  {
   "cell_type": "code",
   "execution_count": 6,
   "metadata": {},
   "outputs": [
    {
     "name": "stdout",
     "output_type": "stream",
     "text": [
      "Calculated solution: optimal value of -9.99999991773416 at [1. 1.]\n"
     ]
    }
   ],
   "source": [
    "Opt = Optimisation(method='trust-constr')\n",
    "Opt.add_objective(poly=my_poly)\n",
    "Opt.add_nonlinear_ineq_con(custom={'function': NonlinearConstraint})\n",
    "Opt.add_bounds(-np.ones(dims), np.ones(dims))\n",
    "Opt.add_linear_eq_con(np.array([1.0, 1.0]), 2.0)\n",
    "sol = Opt.optimise(np.zeros(dims))\n",
    "print(\"Calculated solution: optimal value of {} at {}\".format(sol['fun'], sol['x']))"
   ]
  },
  {
   "cell_type": "markdown",
   "metadata": {},
   "source": [
    "**Coding Task 1: Surrogate-based optimisation for normalised efficiency of a fan blade**\n",
    "Using the test data provided (independent and identically uniformly distributed and bounded between -1 and 1), create a poly object of order 2 using the 'compressive-sensing' method and use the Optimisation class to maximise this poly object with the constraint that \n",
    "$$-\\mathbf{1} \\leq \\mathbf{s} \\leq \\mathbf{1}$$ \n",
    "using the 'SLSQP' method.\n",
    "\n",
    "HINT: To maximise a Poly object objective, simply write:\n",
    "\n",
    "```python\n",
    "Opt.add_objective(poly=my_poly, maximise=True)\n",
    "```"
   ]
  },
  {
   "cell_type": "code",
   "execution_count": 6,
   "metadata": {
    "scrolled": true
   },
   "outputs": [
    {
     "name": "stdout",
     "output_type": "stream",
     "text": [
      "Calculated solution: optimal value of 0.5600166314216701 at [ 1.          1.         -1.         -1.         -1.         -0.58863369\n",
      " -0.98285137 -1.         -1.         -1.          1.         -1.\n",
      "  1.          1.          0.80602794 -1.         -1.          1.\n",
      "  0.35424525  0.12706446 -1.          1.          1.          1.\n",
      "  1.        ]\n"
     ]
    }
   ],
   "source": [
    "S = np.loadtxt('bladeA_cs_training_inputs.dat')\n",
    "f = np.loadtxt('bladeA_cs_training_outputs.dat')\n",
    "m = S.shape[1]\n",
    "####################################################################################\n",
    "# WRITE YOUR CODE HERE\n",
    "# Define Poly object with 'compressive-sensing' method\n",
    "# Approximately 4 lines\n",
    "my_params = [Parameter(distribution='uniform', lower=-1.0, upper=1.0, order=2) for i in range(m)]\n",
    "my_basis = Basis('total-order')\n",
    "my_poly = Poly(my_params, my_basis, method='compressive-sensing', sampling_args={'sample-points':S, 'sample-outputs':f})\n",
    "my_poly.set_model()\n",
    "# Initialise optimisation problem as 'Opt' using 'SLSQP' method\n",
    "# Approximately 3 lines\n",
    "Opt = Optimisation(method='SLSQP')\n",
    "Opt.add_objective(poly=my_poly, maximise=True)\n",
    "Opt.add_bounds(-np.ones(m),np.ones(m))\n",
    "####################################################################################\n",
    "sol = Opt.optimise(np.zeros(m))\n",
    "print(\"Calculated solution: optimal value of {} at {}\".format(sol['fun'], sol['x']))"
   ]
  },
  {
   "cell_type": "markdown",
   "metadata": {},
   "source": [
    "**Coding Task 2: Using Effective Quadratures to construct a trust-region method**\n",
    "We will use Effective Quadratures and what we have learned about trust-region methods to construct our own simple trust-region method to solve the optimisation problem\n",
    "\n",
    "\\begin{equation}\n",
    "\\begin{split}\n",
    "\\min_{\\mathbf{s}} \\quad & f(\\mathbf{s}) \\\\\n",
    "\\textrm{subject to} \\quad & -\\mathbf{1} \\leq \\mathbf{s} \\leq \\mathbf{1}.\n",
    "\\end{split}\n",
    "\\end{equation}\n",
    "\n",
    "This task is broken up into the following small coding tasks:\n",
    "\n",
    "A) Construct a quadratic model from given sample points $S$ and corresponding function evaluations $f$\n",
    "\n",
    "B) Solve a trust-region subproblem to find a new potential iterate $\\mathbf{s}_{k+1}$"
   ]
  },
  {
   "cell_type": "markdown",
   "metadata": {},
   "source": [
    "**Coding Task 2A: Create quadratic models for trust-region method**\n",
    "\n",
    "Given a set of points $S$, corresponding function evaluations $f$, and trust-region radius $\\Delta_k$, create a function which creates a quadratic model using the 'least-squares' method, with parameters uniformly distributed and bounded within hypercube of radius $\\Delta_k$ centred around the first point of $S$.\n",
    "\n",
    "HINT: Points which are sampled within a hypercube of radius $r$ centred around $\\hat{\\mathbf{s}}$ have a lower bound of $\\hat{s}_i - r$ and an upper bound of $\\hat{s}_i + r$ for each coordinate."
   ]
  },
  {
   "cell_type": "code",
   "execution_count": 7,
   "metadata": {},
   "outputs": [
    {
     "name": "stdout",
     "output_type": "stream",
     "text": [
      "Overwriting build_model.py\n"
     ]
    }
   ],
   "source": [
    "%%writefile build_model.py\n",
    "from equadratures import *\n",
    "\n",
    "def build_model(S,f,del_k):\n",
    "####################################################################################\n",
    "    # WRITE YOUR CODE HERE \n",
    "    # Define Poly object with name 'my_poly' with 'least-squares' method\n",
    "    # Approximately 3 lines\n",
    "    my_params = Parameter(distribution='uniform', lower = S[0,i]-del_k, upper= S[0,i] + del_k)\n",
    "####################################################################################\n",
    "    my_poly.set_model()\n",
    "    return my_poly"
   ]
  },
  {
   "cell_type": "markdown",
   "metadata": {},
   "source": [
    "**Coding Task 2B: Solving the trust-region subproblem**\n",
    "\n",
    "Using the newly constructed model, current iterate $\\mathbf{s}_k$ and trust-region radius $\\Delta_k$, use the Optimisation class to solve the trust-region subproblem\n",
    "\n",
    "\\begin{equation}\n",
    "\\label{eq:subproblem}\n",
    "\\begin{split}\n",
    "\\min_{\\mathbf{s}} \\quad & m_k(\\mathbf{s}) \\\\\n",
    "\\textrm{subject to} \\quad & \\| \\mathbf{s} - \\mathbf{s}_k \\|_{\\infty} \\leq \\Delta_k \\\\\n",
    "& -\\mathbf{1} \\leq \\mathbf{s} \\leq \\mathbf{1}\n",
    "\\end{split}\n",
    "\\end{equation}\n",
    "\n",
    "using the 'SLSQP' method.\n",
    "\n",
    "HINT: $\\| \\mathbf{A} \\mathbf{x} - \\mathbf{b} \\|_{\\infty} \\leq 1$ is equivalent to $-\\mathbf{1} \\leq \\mathbf{A} \\mathbf{x} - \\mathbf{b} \\leq \\mathbf{1}$"
   ]
  },
  {
   "cell_type": "code",
   "execution_count": 8,
   "metadata": {},
   "outputs": [
    {
     "name": "stdout",
     "output_type": "stream",
     "text": [
      "Overwriting compute_step.py\n"
     ]
    }
   ],
   "source": [
    "%%writefile compute_step.py\n",
    "from equadratures import *\n",
    "import numpy as np \n",
    "\n",
    "def compute_step(s_old,my_poly,del_k):\n",
    "    Opt = Optimisation(method='SLSQP')\n",
    "####################################################################################\n",
    "    # WRITE YOUR CODE HERE \n",
    "    # Add objectives and constraints to the optimisation problem\n",
    "    # Approximately 3 lines\n",
    "    Opt.add_objective(poly=my_poly)\n",
    "    Opt.add_bounds(-np.ones(s_old.size),np.ones(s_old.size))\n",
    "    Opt.add_linear_ineq_con(np.eye(s_old.size), s_old-del_k*np.ones(s_old.size), s_old+del_k*np.ones(s_old.size))\n",
    "####################################################################################\n",
    "    sol = Opt.optimise(s_old)\n",
    "    s_new = sol['x']\n",
    "    m_new = sol['fun']\n",
    "    return s_new, m_new"
   ]
  },
  {
   "cell_type": "markdown",
   "metadata": {},
   "source": [
    "Now that we have written these functions, it is time to test out our trust-region method. Let us begin by again using the Styblinski-Tang function as our objective."
   ]
  },
  {
   "cell_type": "code",
   "execution_count": 9,
   "metadata": {},
   "outputs": [
    {
     "name": "stdout",
     "output_type": "stream",
     "text": [
      "Calculated solution: optimal value of -19.999999999999993 at [-1. -1.]\n"
     ]
    }
   ],
   "source": [
    "from trustregion import TrustRegion\n",
    "\n",
    "TR = TrustRegion(StyblinskiTang)\n",
    "s0 = np.zeros(dims)\n",
    "sopt, fopt = TR.trust_region(s0)\n",
    "print(\"Calculated solution: optimal value of {} at {}\".format(fopt, sopt))"
   ]
  },
  {
   "cell_type": "markdown",
   "metadata": {},
   "source": [
    "Fantastic! Using Effective Quadratures, you have constructed a simple trust-region method to calculate local minima using localised quadratic models! However, how does this method compare to some other optimisation methods?"
   ]
  },
  {
   "cell_type": "code",
   "execution_count": 10,
   "metadata": {
    "scrolled": true
   },
   "outputs": [
    {
     "name": "stdout",
     "output_type": "stream",
     "text": [
      "Using our trust-region method, an optimal value of -19.999999999999993 was found after 21 function evaluations\n",
      "Using COBYLA, an optimal value of -10.0 was found after 13 function evaluations\n",
      "Using trust-constr, an optimal value of -19.991953540944284 was found after 21 function evaluations\n"
     ]
    }
   ],
   "source": [
    "from compare import compare_optimisation\n",
    "        \n",
    "compare_optimisation(StyblinskiTang, s0)"
   ]
  },
  {
   "cell_type": "markdown",
   "metadata": {},
   "source": [
    "We can see that our very simple trust-region method has relatively similar performance to a number of other common optimisation methods for the 2D Styblinski-Tang function. Let us test out this approach for the following:\n",
    "\n",
    "- McCormick function $$f(s_1,s_2) = \\sin(s_1 + s_2) + (s_1 + s_2)^2 - 1.5s_1 + 2.5s_2 +1$$\n",
    "\n",
    "- Himmelblau function $$f(s_1,s_2) = (s_1^2 + s_2 - 11)^2 + (s_1 + s_2^2 - 7)^2$$\n",
    "\n",
    "- Styblinski-Tang function $$f(\\mathbf{s}) = \\frac{1}{2} \\sum_{i=1}^n (s_i^4 - 16s_i^2 + 5s_i)$$ for $n = 4, 8, 16$"
   ]
  },
  {
   "cell_type": "code",
   "execution_count": 6,
   "metadata": {},
   "outputs": [
    {
     "name": "stdout",
     "output_type": "stream",
     "text": [
      "Using our trust-region method, an optimal value of -1.528284046047533 was found after 36 function evaluations\n",
      "Using COBYLA, an optimal value of -1.528284028086385 was found after 36 function evaluations\n",
      "Using trust-constr, an optimal value of -1.5282827685834577 was found after 33 function evaluations\n"
     ]
    }
   ],
   "source": [
    "from functions import Mccormick, Himmelblau\n",
    "####################################################################################\n",
    "# Feel free to change the function or the dims variable to match the problem. \n",
    "# Only StyblinskiTang can have dimensions more than 2.\n",
    "dims = 2    \n",
    "compare_optimisation(Mccormick, np.zeros(dims))\n",
    "####################################################################################"
   ]
  },
  {
   "cell_type": "code",
   "execution_count": null,
   "metadata": {},
   "outputs": [],
   "source": []
  }
 ],
 "metadata": {
  "kernelspec": {
   "display_name": "Python 3",
   "language": "python",
   "name": "python3"
  },
  "language_info": {
   "codemirror_mode": {
    "name": "ipython",
    "version": 3
   },
   "file_extension": ".py",
   "mimetype": "text/x-python",
   "name": "python",
   "nbconvert_exporter": "python",
   "pygments_lexer": "ipython3",
   "version": "3.7.1"
  }
 },
 "nbformat": 4,
 "nbformat_minor": 1
}
