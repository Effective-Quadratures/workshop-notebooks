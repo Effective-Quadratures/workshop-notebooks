{
 "cells": [
  {
   "cell_type": "code",
   "execution_count": null,
   "metadata": {},
   "outputs": [],
   "source": [
    "%matplotlib notebook\n",
    "from equadratures import *\n",
    "import numpy as np\n",
    "import matplotlib.pyplot as plt\n",
    "from scipy.spatial import ConvexHull, convex_hull_plot_2d\n",
    "from mpl_toolkits.mplot3d import axes3d"
   ]
  },
  {
   "cell_type": "markdown",
   "metadata": {},
   "source": [
    "# Dimension reduction tutorial"
   ]
  },
  {
   "cell_type": "markdown",
   "metadata": {},
   "source": [
    "## Contents:\n",
    "* [Preliminaries](#first-bullet)\n",
    "* [Active subspaces](#second-bullet)\n",
    "* [Zonotopes](#third-bullet)\n",
    "* [Ridges](#fourth-bullet)"
   ]
  },
  {
   "cell_type": "markdown",
   "metadata": {},
   "source": [
    "## Preliminaries <a class=\"anchor\" id=\"first-bullet\"></a>"
   ]
  },
  {
   "cell_type": "markdown",
   "metadata": {},
   "source": [
    "Load the data. This is a very important step. Without this step, we can't move forward."
   ]
  },
  {
   "cell_type": "code",
   "execution_count": null,
   "metadata": {},
   "outputs": [],
   "source": [
    "X = np.loadtxt(' ') \n",
    "y = np.loadtxt(' ')\n",
    "#title = 'Normalised pressure ratio'\n",
    "title = 'Normalised efficiency'"
   ]
  },
  {
   "cell_type": "markdown",
   "metadata": {},
   "source": [
    "Create a polynomial in 25-dimensions assuming each parameter is uniformly distributed between [-1,1]. Y'all have seen this before."
   ]
  },
  {
   "cell_type": "code",
   "execution_count": null,
   "metadata": {},
   "outputs": [],
   "source": [
    "s = Parameter(distribution='uniform', lower=-1., upper=1., order= )\n",
    "myparameters = [s for _ in range(0, 25)]\n",
    "mybasis = Basis(    )\n",
    "mypoly = Poly(parameters=myparameters, basis=mybasis, method='least-squares', \\\n",
    "              sampling_args= {'mesh': 'user-defined', 'sample-points': X, 'sample-outputs': y})\n",
    "mypoly.set_model()"
   ]
  },
  {
   "cell_type": "markdown",
   "metadata": {},
   "source": [
    "## Active subspaces <a class=\"anchor\" id=\"second-bullet\"></a>"
   ]
  },
  {
   "cell_type": "markdown",
   "metadata": {},
   "source": [
    "We pass the polynomial to `Subspaces`. It will use gradient approximations to compute the active subspace. "
   ]
  },
  {
   "cell_type": "code",
   "execution_count": null,
   "metadata": {},
   "outputs": [],
   "source": [
    "mysubspace = Subspaces(full_space_poly=mypoly, method=' ')\n",
    "W = mysubspace.get_subspace()\n",
    "e = mysubspace.get_eigenvalues()"
   ]
  },
  {
   "cell_type": "code",
   "execution_count": null,
   "metadata": {},
   "outputs": [],
   "source": [
    "fig = plt.figure(figsize=(7,4))\n",
    "ax = fig.add_subplot(111)\n",
    "plt.semilogy(e, 'o')\n",
    "plt.ylabel('Eigenvalues (log-scale)')\n",
    "plt.xlabel('Design parameters')\n",
    "plt.show()"
   ]
  },
  {
   "cell_type": "code",
   "execution_count": null,
   "metadata": {},
   "outputs": [],
   "source": [
    "true_dimensions = 1\n",
    "u = X @ W[:, 0:true_dimensions] "
   ]
  },
  {
   "cell_type": "code",
   "execution_count": null,
   "metadata": {},
   "outputs": [],
   "source": [
    "fig = plt.figure(figsize=(7,4))\n",
    "ax = fig.add_subplot(111)\n",
    "plt.plot(u[:,0], y, 'o', color='gold', markeredgecolor='k', lw=1, ms=13, alpha=0.8)\n",
    "plt.ylabel(title)\n",
    "plt.xlabel('u')\n",
    "plt.show()"
   ]
  },
  {
   "cell_type": "code",
   "execution_count": null,
   "metadata": {},
   "outputs": [],
   "source": [
    "true_dimensions = 2\n",
    "u = X @ W[:, 0:true_dimensions] "
   ]
  },
  {
   "cell_type": "code",
   "execution_count": null,
   "metadata": {},
   "outputs": [],
   "source": [
    "fig = plt.figure(figsize=(10,10))\n",
    "ax = fig.add_subplot(111, projection='3d')\n",
    "ax.scatter(u[:,0],u[:,1], y, s=50, c=y, marker='o', edgecolor='k', lw=1, alpha=0.8)                                                                               \n",
    "ax.set_xlabel('u1')\n",
    "ax.set_ylabel('u2')\n",
    "ax.set_zlabel(title)\n",
    "plt.show()"
   ]
  },
  {
   "cell_type": "markdown",
   "metadata": {},
   "source": [
    "## Zonotopes <a class=\"anchor\" id=\"third-bullet\"></a>"
   ]
  },
  {
   "cell_type": "markdown",
   "metadata": {},
   "source": [
    "What is the projection of a hypercube on a plane?"
   ]
  },
  {
   "cell_type": "code",
   "execution_count": null,
   "metadata": {},
   "outputs": [],
   "source": [
    "d = 500 # number of dimensions\n",
    "N = 1000 # number of samples\n",
    "W = np.random.rand(d,d)\n",
    "Q, _ = np.linalg.qr(W) # makes the random matrix orthogonal!\n",
    "mysubspace._subspace = Q\n",
    "mysubspace.subspace_dimension = 2\n",
    "Z = np.random.rand(N,d)*2. - 1"
   ]
  },
  {
   "cell_type": "code",
   "execution_count": null,
   "metadata": {},
   "outputs": [],
   "source": [
    "z = Z @ Q[:,0:2] # Projecting on 2D space only!\n",
    "pts = mysubspace.get_zonotope_vertices()\n",
    "hull = ConvexHull(pts)\n",
    "\n",
    "# Plot\n",
    "fig = plt.figure(figsize=(11,8))\n",
    "ax = fig.add_subplot(111)\n",
    "plt.plot(z[:,0], z[:,1], 'o', color='gold', markeredgecolor='k', lw=1, ms=13, alpha=0.8)\n",
    "for simplex in hull.simplices:\n",
    "    plt.plot(pts[simplex, 0], pts[simplex, 1], 'k-', lw=2)\n",
    "plt.show()"
   ]
  },
  {
   "cell_type": "markdown",
   "metadata": {},
   "source": [
    "Play around with both the dimension of the full space and the number of samples. What do you observe?"
   ]
  },
  {
   "cell_type": "markdown",
   "metadata": {},
   "source": [
    "## Ridges <a class=\"anchor\" id=\"fourth-bullet\"></a>"
   ]
  },
  {
   "cell_type": "markdown",
   "metadata": {},
   "source": [
    "In practice we may not have enough evaluations to estimate a global polynomial. So ridge approximations are a powerful set of ideas for dimension reduction. The technique we use here is titled variable projection."
   ]
  },
  {
   "cell_type": "code",
   "execution_count": null,
   "metadata": {},
   "outputs": [],
   "source": [
    "mysubspace = Subspaces(method=' ', sample_points=X, sample_outputs=y)\n",
    "W = mysubspace.get_subspace()\n",
    "true_dimensions = 1\n",
    "u = X @ W[:, 0:true_dimensions] "
   ]
  },
  {
   "cell_type": "code",
   "execution_count": null,
   "metadata": {},
   "outputs": [],
   "source": [
    "fig = plt.figure(figsize=(7,4))\n",
    "ax = fig.add_subplot(111)\n",
    "plt.plot(u[:,0], y, 'o', color='gold', markeredgecolor='k', lw=1, ms=13, alpha=0.8)\n",
    "plt.ylabel(title)\n",
    "plt.xlabel('u')\n",
    "plt.show()"
   ]
  },
  {
   "cell_type": "code",
   "execution_count": null,
   "metadata": {},
   "outputs": [],
   "source": [
    "true_dimensions = 2\n",
    "u = X @ W[:, 0:true_dimensions] "
   ]
  },
  {
   "cell_type": "code",
   "execution_count": null,
   "metadata": {},
   "outputs": [],
   "source": [
    "fig = plt.figure(figsize=(10,10))\n",
    "ax = fig.add_subplot(111, projection='3d')\n",
    "ax.scatter(u[:,0],u[:,1], y, s=50, c=y, marker='o', edgecolor='k', lw=1, alpha=0.8)                                                                               \n",
    "ax.set_xlabel('u1')\n",
    "ax.set_ylabel('u2')\n",
    "ax.set_zlabel(title)\n",
    "plt.show()"
   ]
  }
 ],
 "metadata": {
  "kernelspec": {
   "display_name": "Python 3",
   "language": "python",
   "name": "python3"
  },
  "language_info": {
   "codemirror_mode": {
    "name": "ipython",
    "version": 3
   },
   "file_extension": ".py",
   "mimetype": "text/x-python",
   "name": "python",
   "nbconvert_exporter": "python",
   "pygments_lexer": "ipython3",
   "version": "3.7.1"
  }
 },
 "nbformat": 4,
 "nbformat_minor": 2
}
