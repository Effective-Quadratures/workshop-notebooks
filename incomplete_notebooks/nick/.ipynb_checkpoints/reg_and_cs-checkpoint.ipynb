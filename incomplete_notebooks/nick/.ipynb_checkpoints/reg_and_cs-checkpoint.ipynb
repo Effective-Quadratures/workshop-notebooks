{
 "cells": [
  {
   "cell_type": "markdown",
   "metadata": {
    "collapsed": true
   },
   "source": [
    "<h1>Regression and Compressive Sensing</h1>"
   ]
  },
  {
   "cell_type": "code",
   "execution_count": 2,
   "metadata": {
    "collapsed": true
   },
   "outputs": [],
   "source": [
    "from equadratures import *\n",
    "from equadratures.poly import vector_to_2D_grid\n",
    "import numpy as np\n",
    "from scipy.stats import linregress\n",
    "import matplotlib.pyplot as plt\n",
    "from matplotlib import cm"
   ]
  },
  {
   "cell_type": "markdown",
   "metadata": {},
   "source": [
    "**Example 1: Least-squares regression of the Styblinsky-Tang function**\n",
    "\n",
    "The 2D Styblinsky-Tang function is defined as follows:\n",
    "$$f(\\mathbf{s}) = \\frac{1}{2} \\sum_{i=1}^2 s_i^4 - 16s_i^2 + 5s_i$$\n",
    "where each variable $s_1,s_2$ is uniformly distributed between $[-1,1]$. We generate 50 samples from this function with random inputs, and add a little bit of noise in."
   ]
  },
  {
   "cell_type": "code",
   "execution_count": 18,
   "metadata": {
    "collapsed": true
   },
   "outputs": [],
   "source": [
    "def StyblinskyTang(S):\n",
    "    N = S.shape[0]\n",
    "    return np.array([0.5 * np.sum(S[i]**4 - 16.0 * S[i]**2 + 5.0 * S[i]) for i in range(N)])\n",
    "\n",
    "dims = 2\n",
    "N = 50\n",
    "S = np.random.uniform(-1,1,(N,dims))\n",
    "y = StyblinskyTang(S) + 0.001*np.random.randn(N)"
   ]
  },
  {
   "cell_type": "markdown",
   "metadata": {},
   "source": [
    "Now, we define the parameters and basis for this problem. We will use a quartic (degree 4) polynomial in a tensor grid basis."
   ]
  },
  {
   "cell_type": "code",
   "execution_count": 19,
   "metadata": {
    "collapsed": true
   },
   "outputs": [],
   "source": [
    "dims = 2\n",
    "poly_order = 4\n",
    "my_params = [Parameter(poly_order, distribution='uniform',lower=-1.0, upper=1.0)\\\n",
    " for _ in range(dims)]\n",
    "my_basis = Basis('tensor-grid')"
   ]
  },
  {
   "cell_type": "markdown",
   "metadata": {},
   "source": [
    "Now, we can compute the coefficients by defining the polynomial model via a Poly object."
   ]
  },
  {
   "cell_type": "code",
   "execution_count": 20,
   "metadata": {},
   "outputs": [],
   "source": [
    "my_poly = Poly(my_params, my_basis, method='least-squares', sampling_args={'mesh':'user-defined',\n",
    "                                                                          'sample-points':S,\n",
    "                                                                          'sample-outputs':y})\n",
    "my_poly.set_model()"
   ]
  },
  {
   "cell_type": "markdown",
   "metadata": {},
   "source": [
    "How good was the fit? We can query the $R^2$ of the fit on some unseen validation data."
   ]
  },
  {
   "cell_type": "code",
   "execution_count": 21,
   "metadata": {},
   "outputs": [
    {
     "name": "stdout",
     "output_type": "stream",
     "text": [
      "0.9999999741050072\n"
     ]
    }
   ],
   "source": [
    "N_valid = 20\n",
    "S_valid = np.random.uniform(-1,1,(N_valid,dims))\n",
    "y_valid = StyblinskyTang(S_valid)\n",
    "y_pred = np.squeeze(my_poly.get_polyfit(S_valid)) # Reshape into 1-D array\n",
    "\n",
    "R2 = linregress(y_valid, y_pred)[2]\n",
    "print(R2)"
   ]
  },
  {
   "cell_type": "markdown",
   "metadata": {},
   "source": [
    "We can visualize the coefficients as follows"
   ]
  },
  {
   "cell_type": "code",
   "execution_count": 67,
   "metadata": {},
   "outputs": [
    {
     "name": "stdout",
     "output_type": "stream",
     "text": [
      "[[-5.13093626e+00  1.44390126e+00 -2.25939840e+00 -1.47875507e-03\n",
      "   4.02504911e-02]\n",
      " [ 1.44008352e+00 -2.41858676e-03  5.19337998e-04  1.63097751e-03\n",
      "   2.19696365e-03]\n",
      " [-2.25644274e+00  1.85110268e-04 -2.61689880e-04  1.80564702e-04\n",
      "   1.39575665e-05]\n",
      " [ 6.21029214e-06  1.16805396e-06 -1.43971383e-03 -4.60889317e-04\n",
      "   2.00940030e-04]\n",
      " [ 3.63499176e-02 -1.58138889e-04 -1.77288195e-04  4.20322923e-04\n",
      "   1.16800393e-03]]\n"
     ]
    },
    {
     "data": {
      "image/png": "[encoded data removed]",
      "text/plain": [
       "<Figure size 432x288 with 2 Axes>"
      ]
     },
     "metadata": {},
     "output_type": "display_data"
    }
   ],
   "source": [
    "coeff_array = vector_to_2D_grid(my_poly.coefficients, my_basis.elements)[2]\n",
    "plt.imshow(np.log(np.abs(coeff_array)),origin='lower',cmap='gnuplot')\n",
    "plt.colorbar()\n",
    "plt.xlabel('Degree in $s_1$')\n",
    "plt.ylabel('Degree in $s_2$')\n",
    "plt.show()"
   ]
  },
  {
   "cell_type": "markdown",
   "metadata": {},
   "source": [
    "**Exercise 1: Regression on the \"blade A\" dataset.**\n",
    "\n",
    "In this exercise, we study the relationship between the efficiency of a fan and the design of its blades. There are 25 design parameters that change the shape of the blade. They have been normalized such that each parameter is uniformly distributed between $[-1,1]$. We have 548 points in total, but we will reserve 48 points for testing how good our fit was. We will fit a quadratic surface with these parameters.\n",
    "\n",
    "First, let's create a list of parameters and a basis that define our problem. For the basis, use a total order basis of maximum degree 2."
   ]
  },
  {
   "cell_type": "code",
   "execution_count": 32,
   "metadata": {},
   "outputs": [],
   "source": [
    "# Import data\n",
    "X = np.loadtxt('data/design_parameters.dat')\n",
    "y = np.loadtxt('data/non_dimensionalized_efficiency.dat')\n",
    "\n",
    "# Partition into training and validation data sets\n",
    "train = np.random.choice(range(548),500,replace=False)\n",
    "valid = [i for i in range(548) if i not in train]\n",
    "X_train = X[train]\n",
    "X_valid = X[valid]\n",
    "y_train = y[train]\n",
    "y_valid = y[valid]\n",
    "\n",
    "# Define parameters (order 2)\n",
    "\n",
    "# Define basis (total order)\n"
   ]
  },
  {
   "cell_type": "markdown",
   "metadata": {},
   "source": [
    "Now, we can compute the coefficients via a polynomial model."
   ]
  },
  {
   "cell_type": "code",
   "execution_count": 31,
   "metadata": {
    "collapsed": true
   },
   "outputs": [],
   "source": [
    "# Create an instance of the Poly class, choosing 'least-squares' as the method, and user-defined inputs/outputs.\n",
    "# Use the training data, not the validation data.\n",
    "\n",
    "# Compute its coefficients by set_model\n",
    "\n",
    "# You can print the coefficients to see their values, or plot them with the following\n",
    "plt.scatter(range(len(my_poly.coefficients)),np.sort(np.log10(np.abs(np.squeeze(my_poly.coefficients))))[::-1])\n",
    "plt.xlabel('Sorted coefficient')\n",
    "plt.ylabel('log magnitude')\n",
    "plt.grid()\n",
    "plt.show()"
   ]
  },
  {
   "cell_type": "markdown",
   "metadata": {},
   "source": [
    "How good was the fit?"
   ]
  },
  {
   "cell_type": "code",
   "execution_count": 34,
   "metadata": {
    "collapsed": true
   },
   "outputs": [],
   "source": [
    "# Evaluate the fit on the validation data\n",
    "# Use linregress to calculate the R^2 of the fit"
   ]
  },
  {
   "cell_type": "markdown",
   "metadata": {},
   "source": [
    "How many basis functions were used?"
   ]
  },
  {
   "cell_type": "code",
   "execution_count": 30,
   "metadata": {
    "collapsed": true
   },
   "outputs": [],
   "source": [
    "# Compute the cardinality of the basis"
   ]
  },
  {
   "cell_type": "markdown",
   "metadata": {},
   "source": [
    "How many coefficients are larger than 0.001 in absolute value?"
   ]
  },
  {
   "cell_type": "code",
   "execution_count": 33,
   "metadata": {
    "collapsed": true
   },
   "outputs": [],
   "source": [
    "# Count the values in the coefficients array that are above 0.001 in absolute value\n",
    "# Hint: use np.where and np.abs"
   ]
  },
  {
   "cell_type": "markdown",
   "metadata": {},
   "source": [
    "**Example 2: Compressive sensing with Styblinsky-Tang function**\n",
    "\n",
    "In Example 1, we saw that the coefficients of the Styblinsky-Tang function were approximately sparse---there are many coefficients which are nearly zero. Hence, we repeat example 1, but now with compressive sensing, and see how many samples we can afford to save. To start off with, let's use 20. Note that this is smaller than the number of basis functions, so we need to use compressive sensing. (Alternatively, we could have reduced the number of basis functions via a total order basis)"
   ]
  },
  {
   "cell_type": "code",
   "execution_count": 44,
   "metadata": {},
   "outputs": [],
   "source": [
    "def StyblinskyTang(S):\n",
    "    N = S.shape[0]\n",
    "    return np.array([0.5 * np.sum(S[i]**4 - 16.0 * S[i]**2 + 5.0 * S[i]) for i in range(N)])\n",
    "\n",
    "dims = 2\n",
    "N = 20\n",
    "S = np.random.uniform(-1,1,(N,dims))\n",
    "y = StyblinskyTang(S) + 0.001*np.random.randn(N)"
   ]
  },
  {
   "cell_type": "markdown",
   "metadata": {},
   "source": [
    "Again, we define the parameters and basis."
   ]
  },
  {
   "cell_type": "code",
   "execution_count": 45,
   "metadata": {
    "collapsed": true
   },
   "outputs": [],
   "source": [
    "dims = 2\n",
    "poly_order = 4\n",
    "my_params = [Parameter(poly_order, distribution='uniform',lower=-1.0, upper=1.0)\\\n",
    " for _ in range(dims)]\n",
    "my_basis = Basis('tensor-grid')"
   ]
  },
  {
   "cell_type": "markdown",
   "metadata": {},
   "source": [
    "Now, we compute the coefficients via compressive sensing."
   ]
  },
  {
   "cell_type": "code",
   "execution_count": 50,
   "metadata": {},
   "outputs": [
    {
     "name": "stdout",
     "output_type": "stream",
     "text": [
      "0.0001\n"
     ]
    }
   ],
   "source": [
    "my_poly = Poly(my_params, my_basis, method='compressive-sensing', sampling_args={'mesh':'user-defined',\n",
    "                                                                                 'sample-points':S,\n",
    "                                                                                 'sample-outputs':y})\n",
    "my_poly.set_model()"
   ]
  },
  {
   "cell_type": "markdown",
   "metadata": {},
   "source": [
    "We repeat the same exercise: Examine the goodness of fit with validation data, and then plot the coefficients."
   ]
  },
  {
   "cell_type": "code",
   "execution_count": 51,
   "metadata": {},
   "outputs": [
    {
     "name": "stdout",
     "output_type": "stream",
     "text": [
      "0.9999983977015334\n"
     ]
    }
   ],
   "source": [
    "N_valid = 20\n",
    "S_valid = np.random.uniform(-1,1,(N_valid,dims))\n",
    "y_valid = StyblinskyTang(S_valid)\n",
    "y_pred = np.squeeze(my_poly.get_polyfit(S_valid)) # Reshape into 1-D array\n",
    "\n",
    "R2 = linregress(y_valid, y_pred)[2]\n",
    "print(R2)"
   ]
  },
  {
   "cell_type": "code",
   "execution_count": 68,
   "metadata": {},
   "outputs": [
    {
     "name": "stdout",
     "output_type": "stream",
     "text": [
      "[[-5.13093626e+00  1.44390126e+00 -2.25939840e+00 -1.47875507e-03\n",
      "   4.02504911e-02]\n",
      " [ 1.44008352e+00 -2.41858676e-03  5.19337998e-04  1.63097751e-03\n",
      "   2.19696365e-03]\n",
      " [-2.25644274e+00  1.85110268e-04 -2.61689880e-04  1.80564702e-04\n",
      "   1.39575665e-05]\n",
      " [ 6.21029214e-06  1.16805396e-06 -1.43971383e-03 -4.60889317e-04\n",
      "   2.00940030e-04]\n",
      " [ 3.63499176e-02 -1.58138889e-04 -1.77288195e-04  4.20322923e-04\n",
      "   1.16800393e-03]]\n"
     ]
    },
    {
     "data": {
      "image/png": "[encoded data removed]",
      "text/plain": [
       "<Figure size 432x288 with 2 Axes>"
      ]
     },
     "metadata": {},
     "output_type": "display_data"
    }
   ],
   "source": [
    "coeff_array = vector_to_2D_grid(my_poly.coefficients, my_basis.elements)[2]\n",
    "plt.imshow(np.log(np.abs(coeff_array)),origin='lower',cmap='gnuplot')\n",
    "plt.colorbar()\n",
    "plt.xlabel('Degree in $s_1$')\n",
    "plt.ylabel('Degree in $s_2$')\n",
    "plt.show()"
   ]
  },
  {
   "cell_type": "markdown",
   "metadata": {},
   "source": [
    "Note that compressive sensing tends to be less reliable. If you get a poor $R^2$, a simple remedy would be to try again with different random samples. However, if the settings are appropriate, compressive sensing can bypass the restrictions of least squares to get the same results with fewer data. "
   ]
  },
  {
   "cell_type": "markdown",
   "metadata": {},
   "source": [
    "**Exercise 2: Compressive sensing on the \"Blade A\" dataset**\n",
    "\n",
    "Again, in exercise 1 we saw that only a portion of the coeffients in the approximation model for the fan efficiency are significantly large. We may be able then to reduce the number of data points we need to produce the same model. \n",
    "\n",
    "As before, we define the parameters and basis. This time, we will use 300 points and assign the rest as validation data. "
   ]
  },
  {
   "cell_type": "code",
   "execution_count": null,
   "metadata": {
    "collapsed": true
   },
   "outputs": [],
   "source": [
    "# Import data\n",
    "X = np.loadtxt('data/design_parameters.dat')\n",
    "y = np.loadtxt('data/non_dimensionalized_efficiency.dat')\n",
    "\n",
    "# Partition into training and validation data sets\n",
    "train = np.random.choice(range(548),300,replace=False)\n",
    "valid = [i for i in range(548) if i not in train]\n",
    "X_train = X[train]\n",
    "X_valid = X[valid]\n",
    "y_train = y[train]\n",
    "y_valid = y[valid]\n",
    "\n",
    "# Define parameters (order 2)\n",
    "\n",
    "# Define basis (total order)\n"
   ]
  },
  {
   "cell_type": "markdown",
   "metadata": {},
   "source": [
    "Now, we can compute the coefficients via a polynomial model."
   ]
  },
  {
   "cell_type": "code",
   "execution_count": null,
   "metadata": {
    "collapsed": true
   },
   "outputs": [],
   "source": [
    "# Create an instance of the Poly class, choosing 'compressive-sensing' as the method, \n",
    "# and user-defined inputs/outputs.\n",
    "# Use the training data, not the validation data.\n",
    "\n",
    "my_poly = ...\n",
    "\n",
    "# Compute its coefficients by set_model\n",
    "\n",
    "# You can print the coefficients to see their values, or plot them with the following\n",
    "plt.scatter(range(len(my_poly.coefficients)),np.sort(np.log10(np.abs(np.squeeze(my_poly.coefficients))))[::-1])\n",
    "plt.xlabel('Sorted coefficient')\n",
    "plt.ylabel('log magnitude')\n",
    "plt.grid()\n",
    "plt.show()"
   ]
  },
  {
   "cell_type": "markdown",
   "metadata": {},
   "source": [
    "How good was the fit?"
   ]
  },
  {
   "cell_type": "code",
   "execution_count": 17,
   "metadata": {
    "collapsed": true
   },
   "outputs": [],
   "source": [
    "# Evaluate the fit on the validation data\n",
    "# Use linregress to calculate the R^2 of the fit"
   ]
  },
  {
   "cell_type": "markdown",
   "metadata": {},
   "source": [
    "What was the noise level ($\\eta$) used?"
   ]
  },
  {
   "cell_type": "code",
   "execution_count": null,
   "metadata": {
    "collapsed": true
   },
   "outputs": [],
   "source": [
    "# Query the eta in my_poly."
   ]
  },
  {
   "cell_type": "markdown",
   "metadata": {},
   "source": [
    "As in example 2, we see that the fit may not be as good as the least squares fit. It may not be able to give a reasonable fit at all. It may then be advisable to try another value of $\\eta$ (noise level), or resample some other set of points."
   ]
  }
 ],
 "metadata": {
  "kernelspec": {
   "display_name": "Python 3",
   "language": "python",
   "name": "python3"
  },
  "language_info": {
   "codemirror_mode": {
    "name": "ipython",
    "version": 3
   },
   "file_extension": ".py",
   "mimetype": "text/x-python",
   "name": "python",
   "nbconvert_exporter": "python",
   "pygments_lexer": "ipython3",
   "version": "3.7.1"
  }
 },
 "nbformat": 4,
 "nbformat_minor": 1
}
