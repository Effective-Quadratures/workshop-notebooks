{
 "cells": [
  {
   "cell_type": "markdown",
   "metadata": {},
   "source": [
    "## Uncertainty Quantification\n",
    "### Dealing with Correlated data\n",
    "#### Comparison between correlated and independent data"
   ]
  },
  {
   "cell_type": "markdown",
   "metadata": {},
   "source": [
    "In this notebook we will calculate the first and the second moment of an analytical blackbox in two cases:\n",
    "- Independent Samples\n",
    "- Correlated Samles\n",
    "\n",
    "The problem is four-dimensional: the uncertain inputs are:\n",
    "- Inlet and Outlet Total Temperatures  ($T_1$, $T_2$)\n",
    "- Inlet and Outlet Total Pressures ($P_1$, $P_2$).\n",
    "\n",
    "The blackbox is the thermal efficiency of a Gas Turbine; the mean values of the uncertain parameters are typical of a LPT."
   ]
  },
  {
   "cell_type": "markdown",
   "metadata": {},
   "source": [
    "### 1) Independent Data\n",
    "Modules to be imported:"
   ]
  },
  {
   "cell_type": "code",
   "execution_count": null,
   "metadata": {
    "collapsed": true
   },
   "outputs": [],
   "source": [
    "from equadratures import *\n",
    "import numpy as np\n"
   ]
  },
  {
   "cell_type": "markdown",
   "metadata": {},
   "source": [
    "In the lines below the turbine efficiency has been defined: the uncertain values of the variables $T_1$, $T_2$, $P_1$, $P_2$ are assigned to the values assumed by the Input X."
   ]
  },
  {
   "cell_type": "code",
   "execution_count": null,
   "metadata": {
    "collapsed": true
   },
   "outputs": [],
   "source": [
    "def efficiency(x):\n",
    "    t1 = x[0]\n",
    "    t2 = x[1]\n",
    "    p1 = x[2]\n",
    "    p2 = x[3]\n",
    "    gamma = 1.41\n",
    "    eta = (t1 - t2) / (t1 * (1 - (p2/p1)**( (gamma-1.)/(gamma) ) ) )\n",
    "    return eta * 100.0"
   ]
  },
  {
   "cell_type": "markdown",
   "metadata": {},
   "source": [
    "The mean values of the Total Temperatures and Pressures have to be speciefied (see slides):"
   ]
  },
  {
   "cell_type": "code",
   "execution_count": null,
   "metadata": {
    "collapsed": true
   },
   "outputs": [],
   "source": [
    "# Mean values\n",
    "T01 = ???. # Kelvin\n",
    "T02 = ??? # Kelvin\n",
    "P01 = ??? # psi\n",
    "P02 = ??? # psi"
   ]
  },
  {
   "cell_type": "markdown",
   "metadata": {},
   "source": [
    "The statistical distribution which better describes the uncertainties related to the inputs are $\\textbf{truncated-gaussians}$. Since a $\\textbf{truncated-gaussian}$ is constructed from a Gaussian, the mean and the variance of this later have to be specied (variables $\\textit{shape_parameter_A}$ and $\\textit{shape_parameter_B}$ respectively). The domain of the samples is a closed set between the lower limit (here denoted with the variable $\\textbf{lower}$) and the upper one (here denoted with the variable $\\textbf{upper}$)."
   ]
  },
  {
   "cell_type": "code",
   "execution_count": null,
   "metadata": {
    "collapsed": true
   },
   "outputs": [],
   "source": [
    "# Define parameters \n",
    "t1 = Parameter(???)\n",
    "t2 = Parameter(???)\n",
    "p1 = Parameter(???)\n",
    "p2 = Parameter(???)"
   ]
  },
  {
   "cell_type": "markdown",
   "metadata": {},
   "source": [
    "For this case a $\\textit{Tensor-Grid}$ base can be chosen for the Polynomial expansion; the coefficients will be calculated with a $\\textit{numerical integration}$.\n",
    "The method $\\textit{set model}$ calculates the coefficients taking into account the evaluation of the blackbox specified.\n",
    "The samples for the evaluation are quadrautes points and they have been taken \\textbf{independently}$, since no correlation matrix has been specified"
   ]
  },
  {
   "cell_type": "code",
   "execution_count": null,
   "metadata": {
    "collapsed": true
   },
   "outputs": [],
   "source": [
    "myBasis = Basis(???)\n",
    "myPoly = Poly(???, basis=???, method=???)\n",
    "myPoly.???"
   ]
  },
  {
   "cell_type": "markdown",
   "metadata": {},
   "source": [
    "The first and and the second moment of the efficiency can now be calculated for the case of independent samples."
   ]
  },
  {
   "cell_type": "code",
   "execution_count": null,
   "metadata": {
    "collapsed": true
   },
   "outputs": [],
   "source": [
    "mean, var = myPoly.???"
   ]
  },
  {
   "cell_type": "code",
   "execution_count": null,
   "metadata": {
    "collapsed": true
   },
   "outputs": [],
   "source": [
    "print(mean, var)"
   ]
  },
  {
   "cell_type": "markdown",
   "metadata": {
    "collapsed": true
   },
   "source": [
    "### 2) Correlated Data"
   ]
  },
  {
   "cell_type": "markdown",
   "metadata": {},
   "source": [
    "Let's define a correlation matrix $R$ which describes a quite negative strong correlation between Temperatures (the Pearson coefficient is equal to $0.9$) and between Pressures (the Pearson coefficient is $0.8$)."
   ]
  },
  {
   "cell_type": "code",
   "execution_count": null,
   "metadata": {
    "collapsed": true
   },
   "outputs": [],
   "source": [
    "R = np.array([[1.0, 0.9, 0.0, 0.0],\n",
    "              [0.9, 1.0, 0.0, 0.0],\n",
    "              [0.0, 0.0, 1.0, 0.8],\n",
    "              [0.0, 0.0, 0.8, 1.0]])"
   ]
  },
  {
   "cell_type": "markdown",
   "metadata": {},
   "source": [
    "The instance of the $\\textbf{Correlation}$ class needs the set of input Parameters and the Correlation Matrix previously defined."
   ]
  },
  {
   "cell_type": "code",
   "execution_count": null,
   "metadata": {
    "collapsed": true
   },
   "outputs": [],
   "source": [
    "corr = Correlations(???)"
   ]
  },
  {
   "cell_type": "markdown",
   "metadata": {},
   "source": [
    "The next step is the calcultion of the coefficients for the new case, followed by the transformation of the inpendent points to a new $\\textit{physical}$ space with correlation."
   ]
  },
  {
   "cell_type": "code",
   "execution_count": null,
   "metadata": {
    "collapsed": true
   },
   "outputs": [],
   "source": [
    "corr_efficiency = corr.???"
   ]
  },
  {
   "cell_type": "code",
   "execution_count": null,
   "metadata": {
    "collapsed": true
   },
   "outputs": [],
   "source": [
    "corrpoly = corr.???"
   ]
  },
  {
   "cell_type": "markdown",
   "metadata": {},
   "source": [
    "Now we can evaluate the mean and the variance for the case in witch the inputs of the blackbox are correlated."
   ]
  },
  {
   "cell_type": "code",
   "execution_count": null,
   "metadata": {
    "collapsed": true
   },
   "outputs": [],
   "source": [
    "mean, var = corrpoly.???\n",
    "print(mean, var)"
   ]
  },
  {
   "cell_type": "markdown",
   "metadata": {},
   "source": [
    "### Graphical Comparison of Correlated Data and Independent one"
   ]
  },
  {
   "cell_type": "code",
   "execution_count": null,
   "metadata": {
    "collapsed": true
   },
   "outputs": [],
   "source": [
    "import matplotlib.pyplot as plt\n",
    "\n",
    "c_samples = corr.get_points()\n",
    "i_samples = myPoly.get_points()\n",
    "#fig = plt.figure()\n",
    "# temperatures\n",
    "plt.grid()\n",
    "plt.plot(c_samples[:,0], c_samples[:,1], 'o', c= 'blue', label='corr')\n",
    "plt.plot(i_samples[:,0], i_samples[:,1], 'o', c = 'red', label='indep')\n",
    "plt.legend()\n",
    "plt.xlabel('Inlet Temperatures')\n",
    "plt.ylabel('Outlet Temperatures')\n",
    "plt.show()"
   ]
  }
 ],
 "metadata": {
  "kernelspec": {
   "display_name": "Python 3",
   "language": "python",
   "name": "python3"
  },
  "language_info": {
   "codemirror_mode": {
    "name": "ipython",
    "version": 3
   },
   "file_extension": ".py",
   "mimetype": "text/x-python",
   "name": "python",
   "nbconvert_exporter": "python",
   "pygments_lexer": "ipython3",
   "version": "3.7.0"
  }
 },
 "nbformat": 4,
 "nbformat_minor": 2
}
