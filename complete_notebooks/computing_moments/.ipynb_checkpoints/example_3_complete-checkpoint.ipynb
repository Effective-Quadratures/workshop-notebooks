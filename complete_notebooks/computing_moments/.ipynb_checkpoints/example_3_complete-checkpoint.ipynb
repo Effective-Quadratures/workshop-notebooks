{
 "cells": [
  {
   "cell_type": "markdown",
   "metadata": {},
   "source": [
    "# Dealing with Correlated data"
   ]
  },
  {
   "cell_type": "markdown",
   "metadata": {},
   "source": [
    "In this notebook we will calculate the first and the second moment of an analytical blackbox in two cases:\n",
    "- Independent Samples\n",
    "- Correlated Samles\n",
    "\n",
    "The problem is four-dimensional: the uncertain inputs are:\n",
    "- Inlet and Outlet Total Temperatures  ($T_1$, $T_2$)\n",
    "- Inlet and Outlet Total Pressures ($P_1$, $P_2$).\n",
    "\n",
    "The blackbox is the thermal efficiency of a Gas Turbine; the mean values of the uncertain parameters are typical of a LPT."
   ]
  },
  {
   "cell_type": "markdown",
   "metadata": {},
   "source": [
    "## 1) Independent Data\n",
    "Modules to be imported:"
   ]
  },
  {
   "cell_type": "code",
   "execution_count": 2,
   "metadata": {},
   "outputs": [],
   "source": [
    "from equadratures import *\n",
    "import numpy as np"
   ]
  },
  {
   "cell_type": "markdown",
   "metadata": {},
   "source": [
    "In the lines below the turbine efficiency has been defined: the uncertain values of the variables $T_1$, $T_2$, $P_1$, $P_2$ are assigned to the values assumed by the Input X."
   ]
  },
  {
   "cell_type": "code",
   "execution_count": 3,
   "metadata": {},
   "outputs": [],
   "source": [
    "def efficiency(x):\n",
    "    t1 = x[0]\n",
    "    t2 = x[1]\n",
    "    p1 = x[2]\n",
    "    p2 = x[3]\n",
    "    gamma = 1.41\n",
    "    eta = (t1 - t2) / (t1 * (1 - (p2/p1)**( (gamma-1.)/(gamma) ) ) )\n",
    "    return eta * 100.0"
   ]
  },
  {
   "cell_type": "markdown",
   "metadata": {},
   "source": [
    "The mean values of the Total Temperatures and Pressures have to be specified (see slides):"
   ]
  },
  {
   "cell_type": "code",
   "execution_count": 4,
   "metadata": {},
   "outputs": [],
   "source": [
    "# Mean values\n",
    "T01 = 1100. # Kelvin\n",
    "T02 = 800. # Kelvin\n",
    "P01 = 90.0 # psi\n",
    "P02 = 29.0 # psi"
   ]
  },
  {
   "cell_type": "markdown",
   "metadata": {},
   "source": [
    "The statistical distribution which better describes the uncertainties related to the inputs are **truncated-gaussians**. Since a **truncated-gaussian** is constructed from a Gaussian, the mean and the variance have to be specied (variables ``shape_parameter_A`` and ``shape_parameter_B`` respectively). The domain of the samples is a closed set between the ``lower`` and ``upper``."
   ]
  },
  {
   "cell_type": "code",
   "execution_count": 44,
   "metadata": {},
   "outputs": [],
   "source": [
    "# Define parameters \n",
    "t1 = Parameter(order=3, distribution='truncated-gaussian', shape_parameter_A=T01, shape_parameter_B=(0.01*T01)**2, lower=0.95*T01, upper=1.10*T01)\n",
    "t2 = Parameter(order=3, distribution='truncated-gaussian', shape_parameter_A=T02, shape_parameter_B=(0.01*T02)**2, lower=0.95*T02, upper=1.10*T02)\n",
    "p1 = Parameter(order=3, distribution='truncated-gaussian', shape_parameter_A=P01, shape_parameter_B=(0.01*P01)**2, lower=0.95*P01, upper=1.10*P01)\n",
    "p2 = Parameter(order=3, distribution='truncated-gaussian', shape_parameter_A=P02, shape_parameter_B=(0.01*P02)**2, lower=0.95*P02, upper=1.10*P02)"
   ]
  },
  {
   "cell_type": "code",
   "execution_count": 45,
   "metadata": {},
   "outputs": [
    {
     "data": {
      "image/png": "[encoded data removed]",
      "text/plain": [
       "<Figure size 432x288 with 1 Axes>"
      ]
     },
     "metadata": {
      "needs_background": "light"
     },
     "output_type": "display_data"
    }
   ],
   "source": [
    "# PDF of s2 is plotted here\n",
    "import matplotlib.pyplot as plt\n",
    "z2_samples = t1.get_samples(9000)\n",
    "n, bins, patches = plt.hist(z2_samples, 50, density=True, facecolor='lime', alpha=0.75, edgecolor='k')\n",
    "plt.xlabel(r'$Ti (\\%)$', fontsize=15)\n",
    "plt.ylabel('PDF', fontsize=15)\n",
    "plt.show()"
   ]
  },
  {
   "cell_type": "markdown",
   "metadata": {},
   "source": [
    "Set a ``tensor-grid`` ``Basis`` and a ``Poly`` with ``numerical-integration``."
   ]
  },
  {
   "cell_type": "code",
   "execution_count": 46,
   "metadata": {},
   "outputs": [],
   "source": [
    "myBasis = Basis('tensor-grid')\n",
    "myPoly = Poly([t1, t2, p1, p2], basis=myBasis, method='numerical-integration')\n",
    "myPoly.set_model(efficiency)"
   ]
  },
  {
   "cell_type": "markdown",
   "metadata": {},
   "source": [
    "The first and and the second moment of the efficiency can now be calculated."
   ]
  },
  {
   "cell_type": "code",
   "execution_count": 47,
   "metadata": {},
   "outputs": [],
   "source": [
    "mean, var = myPoly.get_mean_and_variance()"
   ]
  },
  {
   "cell_type": "code",
   "execution_count": 48,
   "metadata": {},
   "outputs": [
    {
     "name": "stdout",
     "output_type": "stream",
     "text": [
      "97.18759840021818 3.8079977767232047\n"
     ]
    }
   ],
   "source": [
    "print(mean, np.sqrt(var))"
   ]
  },
  {
   "cell_type": "markdown",
   "metadata": {
    "collapsed": true
   },
   "source": [
    "### 2) Correlated Data"
   ]
  },
  {
   "cell_type": "markdown",
   "metadata": {},
   "source": [
    "Let's define a correlation matrix $R$ which describes a quite negative strong correlation between Temperatures (the Pearson coefficient is equal to $0.9$) and between Pressures (the Pearson coefficient is $0.8$)."
   ]
  },
  {
   "cell_type": "code",
   "execution_count": 49,
   "metadata": {},
   "outputs": [],
   "source": [
    "R = np.array([[1.0, 0.9, 0.0, 0.0],\n",
    "              [0.9, 1.0, 0.0, 0.0],\n",
    "              [0.0, 0.0, 1.0, 0.8],\n",
    "              [0.0, 0.0, 0.8, 1.0]])"
   ]
  },
  {
   "cell_type": "markdown",
   "metadata": {},
   "source": [
    "The instance of the ``Correlation`` class needs the set of input Parameters and the Correlation Matrix previously defined."
   ]
  },
  {
   "cell_type": "code",
   "execution_count": 50,
   "metadata": {},
   "outputs": [],
   "source": [
    "corr = Correlations(myPoly, R)"
   ]
  },
  {
   "cell_type": "markdown",
   "metadata": {},
   "source": [
    "The next step is the calcultion of the coefficients for the new case, followed by the transformation of the inpendent points to a new *physical* space with correlation."
   ]
  },
  {
   "cell_type": "code",
   "execution_count": 51,
   "metadata": {},
   "outputs": [],
   "source": [
    "corr_efficiency = corr.set_model(efficiency)"
   ]
  },
  {
   "cell_type": "code",
   "execution_count": 52,
   "metadata": {},
   "outputs": [],
   "source": [
    "corrpoly = corr.get_transformed_poly()"
   ]
  },
  {
   "cell_type": "markdown",
   "metadata": {},
   "source": [
    "Now we can evaluate the mean and the variance for the case in which the inputs of the blackbox are correlated."
   ]
  },
  {
   "cell_type": "code",
   "execution_count": 53,
   "metadata": {},
   "outputs": [
    {
     "name": "stdout",
     "output_type": "stream",
     "text": [
      "97.20052089989314 1.2626529983145514\n"
     ]
    }
   ],
   "source": [
    "mean, var = corrpoly.get_mean_and_variance()\n",
    "print(mean, np.sqrt(var))"
   ]
  },
  {
   "cell_type": "markdown",
   "metadata": {},
   "source": [
    "### Graphical comparison of correlated Data and independent one"
   ]
  },
  {
   "cell_type": "code",
   "execution_count": 20,
   "metadata": {},
   "outputs": [
    {
     "data": {
      "image/png": "[encoded data removed]",
      "text/plain": [
       "<Figure size 432x288 with 1 Axes>"
      ]
     },
     "metadata": {
      "needs_background": "light"
     },
     "output_type": "display_data"
    }
   ],
   "source": [
    "import matplotlib.pyplot as plt\n",
    "\n",
    "c_samples = corr.get_points()\n",
    "i_samples = myPoly.get_points()\n",
    "#fig = plt.figure()\n",
    "# temperatures\n",
    "plt.grid()\n",
    "plt.plot(c_samples[:,0], c_samples[:,1], 'o', c= 'blue', label='corr')\n",
    "plt.plot(i_samples[:,0], i_samples[:,1], 'o', c = 'red', label='indep')\n",
    "plt.legend()\n",
    "plt.xlabel('Inlet Temperatures')\n",
    "plt.ylabel('Outlet Temperatures')\n",
    "plt.show()"
   ]
  }
 ],
 "metadata": {
  "kernelspec": {
   "display_name": "Python 3",
   "language": "python",
   "name": "python3"
  },
  "language_info": {
   "codemirror_mode": {
    "name": "ipython",
    "version": 3
   },
   "file_extension": ".py",
   "mimetype": "text/x-python",
   "name": "python",
   "nbconvert_exporter": "python",
   "pygments_lexer": "ipython3",
   "version": "3.7.0"
  }
 },
 "nbformat": 4,
 "nbformat_minor": 2
}
