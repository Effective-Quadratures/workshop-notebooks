{
 "cells": [
  {
   "cell_type": "markdown",
   "metadata": {
    "collapsed": true
   },
   "source": [
    "<h1>Surrogate-Based Optimisation</h1>"
   ]
  },
  {
   "cell_type": "markdown",
   "metadata": {},
   "source": [
    "**Example 1: Constrained optimisation of Poly object with custom constraint functions**\n",
    "\n",
    "We will demonstrate how to use the Optimisation class to solve the following optimisation problem\n",
    "\n",
    "\\begin{eqnarray}\n",
    "    \\min_{s_1,s_2} \t\\quad    \t& f(s_1, s_2) \t\\\\\n",
    "    \\textrm{ subject to } \t& (s_1-1)^3 - s_2 \\leq 5 \t\\\\\n",
    "                            & s_1 + s_1 = 2 \t\t\t\t\\\\\n",
    "                            & -1 \\leq s_1 \\leq 1 \t\t\t\\\\\n",
    "                            & -1 \\leq s_2 \\leq 1.\n",
    "\\end{eqnarray}\n",
    "\n",
    "where $f(s_1, s_2)$ is a Poly object and we will manually define the constraints. In this case, we will use the 2D Styblinski-Tang function\n",
    "$$f(\\mathbf{s}) = \\frac{1}{2} \\sum_{i=1}^2 s_i^4 - 16s_i^2 + 5s_i$$\n",
    "where each variable $s_1,s_2$ is uniformly distributed between $[-1,1]$. We will use 50 random samples to construct this fourth order Poly object."
   ]
  },
  {
   "cell_type": "code",
   "execution_count": null,
   "metadata": {},
   "outputs": [],
   "source": [
    "from equadratures import *\n",
    "import numpy as np\n",
    "\n",
    "from functions import StyblinskiTang, Mccormick, Himmelblau, Rosenbrock\n",
    "from compare import compare_optimisation\n",
    "\n",
    "dims = 2\n",
    "N = 50\n",
    "poly_order = 4\n",
    "S = np.random.uniform(-1,1,(N,dims))\n",
    "y = evaluate_model(S, StyblinskiTang)"
   ]
  },
  {
   "cell_type": "markdown",
   "metadata": {},
   "source": [
    "Defining the parameters and basis as before, we can compute the coefficients of the polynomial model via a Poly object."
   ]
  },
  {
   "cell_type": "code",
   "execution_count": null,
   "metadata": {},
   "outputs": [],
   "source": [
    "my_params = [Parameter(poly_order, distribution='uniform',lower=-1.0, upper=1.0)\\\n",
    " for _ in range(dims)]\n",
    "my_basis = Basis('total-order')\n",
    "my_poly = Poly(my_params, my_basis, method='least-squares', \\\n",
    "               sampling_args={'mesh': 'user-defined', 'sample-points':S,'sample-outputs':y})\n",
    "my_poly.set_model()"
   ]
  },
  {
   "cell_type": "markdown",
   "metadata": {},
   "source": [
    "Now that the polynomial surrogate model has been constructed for our objective, we can manually define our constraints. Note we could also create a Poly object for this constraint in a similar manner as above."
   ]
  },
  {
   "cell_type": "code",
   "execution_count": null,
   "metadata": {},
   "outputs": [],
   "source": [
    "def NonlinearConstraint(S):\n",
    "    return 5.0 - (S[0]-1.0)**3 + S[1] "
   ]
  },
  {
   "cell_type": "markdown",
   "metadata": {},
   "source": [
    "It is important to note here that we write nonlinear constraints in the form $g(\\mathbf{s}) \\geq 0$ as  required by Scipy."
   ]
  },
  {
   "cell_type": "code",
   "execution_count": null,
   "metadata": {},
   "outputs": [],
   "source": [
    "Opt = Optimisation(method='trust-constr')\n",
    "Opt.add_objective(poly=my_poly)\n",
    "Opt.add_nonlinear_ineq_con(custom={'function': NonlinearConstraint})\n",
    "Opt.add_bounds(-np.ones(dims), np.ones(dims))\n",
    "Opt.add_linear_eq_con(np.array([1.0, 1.0]), 2.0)\n",
    "sol = Opt.optimise(np.zeros(dims))\n",
    "print(\"Calculated solution: optimal value of {} at {}\".format(sol['fun'], sol['x']))"
   ]
  },
  {
   "cell_type": "markdown",
   "metadata": {},
   "source": [
    "Expected solution: function value of $-10$ at $\\begin{bmatrix}1 & 1 \\end{bmatrix}$"
   ]
  },
  {
   "cell_type": "markdown",
   "metadata": {},
   "source": [
    "**Coding Task 1: Surrogate-based optimisation for normalised efficiency of a fan blade**\n",
    "Using the test data provided (independent and identically uniformly distributed and bounded between -1 and 1), create a Poly object of order 2 using the ```'compressive-sensing'``` method and use the Optimisation class to maximise this Poly object with the constraint that \n",
    "$$-\\mathbf{1} \\leq \\mathbf{s} \\leq \\mathbf{1}$$ \n",
    "using the sequential least squares programming method (```'SLSQP'```).\n",
    "\n",
    "HINT: To maximise a Poly object objective, simply write:\n",
    "\n",
    "```python\n",
    "Opt.add_objective(poly=my_poly, maximise=True)\n",
    "```"
   ]
  },
  {
   "cell_type": "code",
   "execution_count": null,
   "metadata": {
    "scrolled": true
   },
   "outputs": [],
   "source": [
    "S = np.loadtxt('bladeA_cs_training_inputs.dat')\n",
    "f = np.loadtxt('bladeA_cs_training_outputs.dat')\n",
    "m = S.shape[1]\n",
    "####################################################################################\n",
    "# Construct polynomial model\n",
    "my_params = [Parameter(distribution='uniform', lower=-1.0, upper=1.0, order=2) for i in range(m)]\n",
    "my_basis = Basis('total-order')\n",
    "my_poly = Poly(my_params, my_basis, method='compressive-sensing', \\\n",
    "               sampling_args={'mesh': 'user-defined', 'sample-points':S, 'sample-outputs':f})\n",
    "my_poly.set_model()\n",
    "# Define optimisation problem\n",
    "Opt = Optimisation(method='SLSQP')\n",
    "Opt.add_objective(poly=my_poly, maximise=True)\n",
    "Opt.add_bounds(-np.ones(m), np.ones(m))\n",
    "sol = Opt.optimise(np.zeros(m))\n",
    "####################################################################################\n",
    "print(\"Calculated solution: optimal value of {} at {}\".format(sol['fun'], sol['x']))"
   ]
  },
  {
   "cell_type": "markdown",
   "metadata": {},
   "source": [
    "**Coding Task 2: Using Effective Quadratures to construct a trust-region method**\n",
    "We will use Effective Quadratures and what we have learned about trust-region methods to construct our own simple trust-region method to solve the bound-constrained optimisation problem\n",
    "\n",
    "\\begin{equation}\n",
    "\\begin{split}\n",
    "\\min_{\\mathbf{s}} \\quad & f(\\mathbf{s}) \\\\\n",
    "\\textrm{subject to} \\quad & \\mathbf{a} \\leq \\mathbf{s} \\leq \\mathbf{b}.\n",
    "\\end{split}\n",
    "\\end{equation}\n",
    "\n",
    "This task is broken up into the following small coding tasks:\n",
    "\n",
    "A) Construct a quadratic model from given sample points $S$ and corresponding function evaluations $f$\n",
    "\n",
    "B) Solve a trust-region subproblem to find a new potential iterate $\\mathbf{s}_{k+1}$"
   ]
  },
  {
   "cell_type": "markdown",
   "metadata": {},
   "source": [
    "**Coding Task 2A: Create quadratic models for trust-region method**\n",
    "\n",
    "Given a set of points $S$ and corresponding function evaluations $f$, create a function which creates a quadratic model using the ```'least-squares'``` method with uniformly distributed parameters.\n",
    "\n",
    "HINT: When specifying the lower and upper bounds for the uniform distribution, we can use the minimum and maximum values of each coordinate in $S$."
   ]
  },
  {
   "cell_type": "code",
   "execution_count": null,
   "metadata": {},
   "outputs": [],
   "source": [
    "%%writefile build_model.py\n",
    "from equadratures import *\n",
    "\n",
    "def build_model(S,f):\n",
    "####################################################################################\n",
    "    # Define Poly object with name 'my_poly' with 'least-squares' method\n",
    "    myParameters = [Parameter(distribution='uniform', lower=np.min(S[:,i]), upper=np.max(S[:,i]), order=2) \\\n",
    "                    for i in range(S.shape[1])]\n",
    "    myBasis = Basis('total-order')\n",
    "    my_poly = Poly(myParameters, myBasis, method='least-squares', \\\n",
    "                   sampling_args={'mesh': 'user-defined', 'sample-points':S, 'sample-outputs':f})\n",
    "    my_poly.set_model()\n",
    "####################################################################################\n",
    "    \n",
    "    return my_poly"
   ]
  },
  {
   "cell_type": "markdown",
   "metadata": {},
   "source": [
    "**Coding Task 2B: Solving the trust-region subproblem**\n",
    "\n",
    "Using the newly constructed model, current iterate $\\mathbf{s}_k$, trust-region radius $\\Delta_k$, and bounds $\\mathbf{a}, \\mathbf{b}$, use the Optimisation class to solve the trust-region subproblem\n",
    "\n",
    "\\begin{equation}\n",
    "\\label{eq:subproblem}\n",
    "\\begin{split}\n",
    "\\min_{\\mathbf{s}} \\quad & m_k(\\mathbf{s}) \\\\\n",
    "\\textrm{subject to} \\quad & \\| \\mathbf{s} - \\mathbf{s}_k \\|_{\\infty} \\leq \\Delta_k \\\\\n",
    "& \\mathbf{a} \\leq \\mathbf{s} \\leq \\mathbf{b}\n",
    "\\end{split}\n",
    "\\end{equation}\n",
    "\n",
    "using a truncated Newton algorithm (```'TNC'```).\n",
    "\n",
    "HINT: $\\| \\mathbf{s} - \\mathbf{r} \\|_{\\infty} \\leq 1$ is equivalent to $-\\mathbf{1} \\leq \\mathbf{s} - \\mathbf{r} \\leq \\mathbf{1}$\n",
    "\n",
    "FURTHER HINT: Two bound constraints $\\mathbf{a}_1 \\leq \\mathbf{s} \\leq \\mathbf{b}_1 $ and $\\mathbf{a}_2 \\leq \\mathbf{s} \\leq \\mathbf{b}_2 $ can be combined into a single bound constraint."
   ]
  },
  {
   "cell_type": "code",
   "execution_count": null,
   "metadata": {},
   "outputs": [],
   "source": [
    "%%writefile compute_step.py\n",
    "from equadratures import *\n",
    "import numpy as np \n",
    "\n",
    "def compute_step(s_old,my_poly,del_k,a,b): \n",
    "#################################################################################### \n",
    "    # Add objectives and constraints to the optimisation problem\n",
    "    Opt = Optimisation(method='TNC')\n",
    "    Opt.add_objective(poly=my_poly)\n",
    "    Opt.add_bounds(np.maximum(a, s_old-del_k),np.minimum(b, s_old+del_k))\n",
    "    sol = Opt.optimise(s_old)\n",
    "####################################################################################\n",
    "    return sol['x'], sol['fun']"
   ]
  },
  {
   "cell_type": "markdown",
   "metadata": {},
   "source": [
    "Now that we have written these functions, it is time to test out our trust-region method. Let us begin by again using the Styblinski-Tang function as our objective with bounds $\\mathbf{a} = -\\mathbf{1}$ and $\\mathbf{b} = \\mathbf{1}$."
   ]
  },
  {
   "cell_type": "code",
   "execution_count": null,
   "metadata": {},
   "outputs": [],
   "source": [
    "from trustregion import TrustRegion\n",
    "\n",
    "TR = TrustRegion(StyblinskiTang)\n",
    "s0 = np.zeros(dims)\n",
    "sopt, fopt = TR.trust_region(s0, lower_bound=-np.ones(dims), upper_bound=np.ones(dims))\n",
    "print(\"Calculated solution: optimal value of {} at {}\".format(fopt, sopt))"
   ]
  },
  {
   "cell_type": "markdown",
   "metadata": {},
   "source": [
    "Expected solution: optimal value of $-20$ at $\\begin{bmatrix}-1 & -1 \\end{bmatrix}$ "
   ]
  },
  {
   "cell_type": "markdown",
   "metadata": {},
   "source": [
    "Fantastic! Using Effective Quadratures, you have constructed a simple trust-region method to calculate local minima using localised quadratic models. This simple trust-region method is available for bound-constrained derivative-free optimisation in the Optimisation class using the method ```'trust-region'```. The syntax to call this method is seen below."
   ]
  },
  {
   "cell_type": "code",
   "execution_count": null,
   "metadata": {},
   "outputs": [],
   "source": [
    "Opt = Optimisation(method='trust-region')\n",
    "Opt.add_objective(custom={'function': StyblinskiTang})\n",
    "Opt.add_bounds(-np.ones(dims), np.ones(dims))\n",
    "sol = Opt.optimise(np.zeros(dims))\n",
    "print(\"Calculated solution: optimal value of {} at {}\".format(sol['fun'], sol['x']))"
   ]
  },
  {
   "cell_type": "markdown",
   "metadata": {},
   "source": [
    "How does this method compare to some other optimisation methods? \n",
    "\n",
    "Feel free to test out this approach for the following:\n",
    "\n",
    "- Styblinski-Tang function $$f(\\mathbf{s}) = \\frac{1}{2} \\sum_{i=1}^2 s_i^4 - 16s_i^2 + 5s_i$$\n",
    "\n",
    "- McCormick function $$f(s_1,s_2) = \\sin(s_1 + s_2) + (s_1 + s_2)^2 - 1.5s_1 + 2.5s_2 +1$$\n",
    "\n",
    "- Himmelblau function $$f(s_1,s_2) = (s_1^2 + s_2 - 11)^2 + (s_1 + s_2^2 - 7)^2$$\n",
    "\n",
    "- Rosenbrock function $$f(\\mathbf{s}) = \\sum_{i=1}^{n-1} 100(s_{i+1} - s_{i}^2)^2 + (1 - s_{i})^2$$"
   ]
  },
  {
   "cell_type": "code",
   "execution_count": null,
   "metadata": {},
   "outputs": [],
   "source": [
    "####################################################################################\n",
    "# Feel free to change the function to match the problem. The functions provided are:\n",
    "# StyblinskiTang, Mccormick, Himmelblau, Rosenbrock\n",
    "dims=2\n",
    "compare_optimisation(Rosenbrock, np.zeros(dims), bounds=[-np.ones(dims), np.ones(dims)])\n",
    "####################################################################################"
   ]
  },
  {
   "cell_type": "code",
   "execution_count": null,
   "metadata": {},
   "outputs": [],
   "source": []
  }
 ],
 "metadata": {
  "kernelspec": {
   "display_name": "Python 3",
   "language": "python",
   "name": "python3"
  },
  "language_info": {
   "codemirror_mode": {
    "name": "ipython",
    "version": 3
   },
   "file_extension": ".py",
   "mimetype": "text/x-python",
   "name": "python",
   "nbconvert_exporter": "python",
   "pygments_lexer": "ipython3",
   "version": "3.6.9"
  }
 },
 "nbformat": 4,
 "nbformat_minor": 1
}
