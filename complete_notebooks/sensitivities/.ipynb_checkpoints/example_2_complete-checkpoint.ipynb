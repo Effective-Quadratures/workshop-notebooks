{
 "cells": [
  {
   "cell_type": "markdown",
   "metadata": {},
   "source": [
    "# Example 1: Computing sensitivies for a piston"
   ]
  },
  {
   "cell_type": "code",
   "execution_count": 1,
   "metadata": {},
   "outputs": [],
   "source": [
    "from equadratures import *\n",
    "import numpy as np\n",
    "import matplotlib.pyplot as plt\n",
    "import warnings\n",
    "warnings.filterwarnings(\"ignore\")\n",
    "\n",
    "#%matplotlib notebook"
   ]
  },
  {
   "cell_type": "markdown",
   "metadata": {},
   "source": [
    "## 1. Setting up our problem"
   ]
  },
  {
   "cell_type": "markdown",
   "metadata": {},
   "source": [
    "First set the parameters. Lets stick with ``distribution='uniform'`` and ``order=3``. The ranges are given in the slides."
   ]
  },
  {
   "cell_type": "code",
   "execution_count": 2,
   "metadata": {},
   "outputs": [],
   "source": [
    "order_parameters = 3\n",
    "mass = Parameter(distribution='uniform', lower=30.0, upper=60.0, order=order_parameters)\n",
    "area = Parameter(distribution='uniform', lower=0.005, upper=0.020, order=order_parameters)\n",
    "volume = Parameter(distribution='uniform', lower=0.002, upper=0.010, order=order_parameters)\n",
    "spring = Parameter(distribution='uniform', lower=1000., upper=5000., order=order_parameters)\n",
    "pressure = Parameter(distribution='uniform', lower=90000., upper=110000., order=order_parameters)\n",
    "ambtemp = Parameter(distribution='uniform', lower=290., upper=296., order=order_parameters)\n",
    "gastemp = Parameter(distribution='uniform', lower=340., upper=360., order=order_parameters)\n",
    "\n",
    "# Put the 7 parameters into a list\n",
    "parameters = [mass, area, volume, spring, pressure, ambtemp, gastemp]\n",
    "param_names = ['mass', 'area', 'volume', 'spring', 'pressure', 'ambtemp', 'gastemp']"
   ]
  },
  {
   "cell_type": "markdown",
   "metadata": {},
   "source": [
    "We need to define a function to return the piston's cycle time, $C$, given the 7 input parameters. Equations are given in the slides."
   ]
  },
  {
   "cell_type": "code",
   "execution_count": 3,
   "metadata": {},
   "outputs": [],
   "source": [
    "def piston(x):\n",
    "    mass, area, volume, spring, pressure, ambtemp, gastemp = x[0], x[1], x[2], x[3], x[4], x[5], x[6]\n",
    "    A = pressure * area + 19.62*mass - (spring * volume)/(1.0 * area)\n",
    "    V = (area/(2*spring)) * ( np.sqrt(A**2 + 4*spring * pressure * volume * ambtemp/gastemp) - A)\n",
    "    C = 2 * np.pi * np.sqrt(mass/(spring + area**2 * pressure * volume * ambtemp/(gastemp * V**2)))\n",
    "    return C"
   ]
  },
  {
   "cell_type": "markdown",
   "metadata": {},
   "source": [
    "For $\\mathbf{x}=1$ we expect $C=piston(x)\\approx0.319$. Is your function correct?"
   ]
  },
  {
   "cell_type": "code",
   "execution_count": 19,
   "metadata": {},
   "outputs": [
    {
     "data": {
      "text/plain": [
       "0.31900432511842686"
      ]
     },
     "execution_count": 19,
     "metadata": {},
     "output_type": "execute_result"
    }
   ],
   "source": [
    "piston([1,1,1,1,1,1,1])"
   ]
  },
  {
   "cell_type": "markdown",
   "metadata": {},
   "source": [
    "## 2. Fitting a polynomial"
   ]
  },
  {
   "cell_type": "markdown",
   "metadata": {},
   "source": [
    "Firstly, lets set-up our ``Basis`` and ``Poly``. We will opt for a total order basis set with least-squares and qr subsampling."
   ]
  },
  {
   "cell_type": "code",
   "execution_count": 4,
   "metadata": {},
   "outputs": [],
   "source": [
    "mybasis = Basis('total-order')\n",
    "mypoly  = Poly(parameters, mybasis, method='least-squares',sampling_args={'mesh':'tensor-grid', 'subsampling-algorithm':'qr', 'sampling-ratio':1.0})"
   ]
  },
  {
   "cell_type": "markdown",
   "metadata": {},
   "source": [
    "Now (and this is the important part), we wish to ascertain how many model evaluations will be required for computing these sensitivities. The objective is for these to be orders of magnitude lower than other methods for computing Sobol’ indices."
   ]
  },
  {
   "cell_type": "code",
   "execution_count": 5,
   "metadata": {},
   "outputs": [
    {
     "name": "stdout",
     "output_type": "stream",
     "text": [
      "120\n"
     ]
    }
   ],
   "source": [
    "print(mypoly.basis.cardinality)"
   ]
  },
  {
   "cell_type": "markdown",
   "metadata": {},
   "source": [
    "Excellent! So the number of model evaluations we will require is 120! Now lets compute the coefficients and get the Sobol indices to ascertain which of the variables above are the most important.\n",
    "\n",
    "As usual, lets now run ``set_model``. This time provide the function ``piston`` to ``set_model`` directly. The code can decide where to sample this function itself."
   ]
  },
  {
   "cell_type": "code",
   "execution_count": 6,
   "metadata": {},
   "outputs": [],
   "source": [
    "mypoly.set_model(piston)\n",
    "mean, var = mypoly.get_mean_and_variance()"
   ]
  },
  {
   "cell_type": "markdown",
   "metadata": {},
   "source": [
    "Using ``method='least-squares'`` and ``'subsampling-algorithm':'qr'`` has given us big savings here! If we had used ``method='numerical-integration'`` like in the CFD examples, we would have needed $4^7 = 16384$ samples. Later on you can check this for yourself! (See below, this may take a while to run)."
   ]
  },
  {
   "cell_type": "code",
   "execution_count": 7,
   "metadata": {},
   "outputs": [],
   "source": [
    "#mybasis = Basis('tensor-grid')\n",
    "#mypoly  = Poly(parameters, mybasis, method='numerical-integration')\n",
    "#print(mypoly.basis.cardinality)"
   ]
  },
  {
   "cell_type": "markdown",
   "metadata": {},
   "source": [
    "## 3. Obtaining Sobol' indices"
   ]
  },
  {
   "cell_type": "markdown",
   "metadata": {},
   "source": [
    "Lets find the *unnormalised* Sobol' indices and compare to the reference solution. The ``get_sobol_indices()`` function returns the *normalised* Sobol' indices $S_i$ so we must multiply these by the variance of $C$ to get the *unnormalised* indices:\n",
    "\n",
    "$\\tau_i^2=S_i\\sigma^2$"
   ]
  },
  {
   "cell_type": "code",
   "execution_count": 8,
   "metadata": {},
   "outputs": [
    {
     "name": "stdout",
     "output_type": "stream",
     "text": [
      "    mass: 0.079\n",
      "    area: 1.1\n",
      "  volume: 0.58\n",
      "  spring: 0.041\n",
      "pressure: 0.0027\n",
      " ambtemp: 0.00013\n",
      " gastemp: 0.00077\n"
     ]
    }
   ],
   "source": [
    "sobol = mypoly.get_sobol_indices(1)\n",
    "\n",
    "# Print indices\n",
    "for i in range(0, len(parameters)):\n",
    "    print('%8s: %.2g' %(param_names[i],float(sobol[(i,)]) * 10**2 * var))"
   ]
  },
  {
   "cell_type": "markdown",
   "metadata": {},
   "source": [
    "Are the values close to the reference values given in the slides? \n",
    "\n",
    "If they are, then lets go ahead and plot $S_i$ to understand the relative important of each input parameter."
   ]
  },
  {
   "cell_type": "code",
   "execution_count": 9,
   "metadata": {},
   "outputs": [
    {
     "data": {
      "image/png": "[encoded data removed]",
      "text/plain": [
       "<Figure size 432x288 with 1 Axes>"
      ]
     },
     "metadata": {
      "needs_background": "light"
     },
     "output_type": "display_data"
    }
   ],
   "source": [
    "fig = plt.figure()\n",
    "ax = fig.add_subplot(1,1,1)\n",
    "data_1 = np.arange(7) - 0.10 + 1\n",
    "for i in range(0, len(sobol)):\n",
    "    plt.bar(i+1, sobol[(i,)], color='steelblue',linewidth=1.5)\n",
    "ax.set_axisbelow(True)\n",
    "plt.xlabel(r'Parameters', fontsize=16)\n",
    "plt.ylabel(r\"First order Sobol' indices\", fontsize=16)\n",
    "xTickMarks = [r'$M$', r'$S$', r'$V_0$', r'$k$', r'$P_0$', r'$T_a$', r'$T_0$']\n",
    "ax.set_xticks(data_1+0.10)\n",
    "xtickNames = ax.set_xticklabels(xTickMarks)\n",
    "plt.setp(xtickNames, rotation=45, fontsize=16)\n",
    "plt.tight_layout()\n",
    "#plt.plot()"
   ]
  },
  {
   "cell_type": "markdown",
   "metadata": {},
   "source": [
    "## 4. Higher order and total Sobol' indices"
   ]
  },
  {
   "cell_type": "markdown",
   "metadata": {},
   "source": [
    "``get_sobol_indices()`` can also return higher order *interaction* indices. Try this my obtaining the 2nd and 3rd order indices below:"
   ]
  },
  {
   "cell_type": "code",
   "execution_count": 15,
   "metadata": {},
   "outputs": [],
   "source": [
    "sobol2 = mypoly.get_sobol_indices(2)\n",
    "sobol3 = mypoly.get_sobol_indices(3)"
   ]
  },
  {
   "cell_type": "code",
   "execution_count": 16,
   "metadata": {},
   "outputs": [
    {
     "name": "stdout",
     "output_type": "stream",
     "text": [
      "Parameters:      mass <>      area, Sobol index: 0.006\n",
      "Parameters:      mass <>    volume, Sobol index: 0.006\n",
      "Parameters:      mass <>    spring, Sobol index: 0.001\n",
      "Parameters:      mass <>  pressure, Sobol index: 0.0008\n",
      "Parameters:      mass <>   ambtemp, Sobol index: 3e-05\n",
      "Parameters:      mass <>   gastemp, Sobol index: 5e-05\n",
      "Parameters:      area <>    volume, Sobol index: 0.004\n",
      "Parameters:      area <>    spring, Sobol index: 0.02\n",
      "Parameters:      area <>  pressure, Sobol index: 0.0003\n",
      "Parameters:      area <>   ambtemp, Sobol index: 0.0003\n",
      "Parameters:      area <>   gastemp, Sobol index: 0.001\n",
      "Parameters:    volume <>    spring, Sobol index: 0.01\n",
      "Parameters:    volume <>  pressure, Sobol index: 0.0001\n",
      "Parameters:    volume <>   ambtemp, Sobol index: 0.0001\n",
      "Parameters:    volume <>   gastemp, Sobol index: 0.0002\n",
      "Parameters:    spring <>  pressure, Sobol index: 0.0001\n",
      "Parameters:    spring <>   ambtemp, Sobol index: 0.0004\n",
      "Parameters:    spring <>   gastemp, Sobol index: 0.0004\n",
      "Parameters:  pressure <>   ambtemp, Sobol index: 0.0002\n",
      "Parameters:  pressure <>   gastemp, Sobol index: 2e-05\n",
      "Parameters:   ambtemp <>   gastemp, Sobol index: 0.0001\n"
     ]
    }
   ],
   "source": [
    "# Print indices\n",
    "for key, value in sobol2.items():\n",
    "    print('Parameters: %9s <> %9s, Sobol index: %.1g' %(param_names[key[0]],param_names[key[1]],value))"
   ]
  },
  {
   "cell_type": "markdown",
   "metadata": {},
   "source": [
    "In a similar manner, ``get_total_sobol_indices()`` returns the total Sobel' indices $S_{T_i}$ (Total-effect indices). Try this..."
   ]
  },
  {
   "cell_type": "code",
   "execution_count": 12,
   "metadata": {},
   "outputs": [
    {
     "name": "stdout",
     "output_type": "stream",
     "text": [
      "\n",
      "Total Sobol' indices\n",
      "    mass: 0.059\n",
      "    area: 0.6\n",
      "  volume: 0.34\n",
      "  spring: 0.066\n",
      "pressure: 0.0055\n",
      " ambtemp: 0.0036\n",
      " gastemp: 0.0047\n",
      "\n",
      "Sobol' indices\n",
      "    mass: 0.041\n",
      "    area: 0.56\n",
      "  volume: 0.31\n",
      "  spring: 0.022\n",
      "pressure: 0.0014\n",
      " ambtemp: 6.7e-05\n",
      " gastemp: 0.00041\n"
     ]
    }
   ],
   "source": [
    "sobol_tot = mypoly.get_total_sobol_indices()\n",
    "\n",
    "# Print indices\n",
    "print(\"\\nTotal Sobol' indices\")\n",
    "for i in range(0, len(parameters)):\n",
    "    print('%8s: %.2g' %(param_names[i],float(sobol_tot[(i,)])))\n",
    "print(\"\\nSobol' indices\")\n",
    "for i in range(0, len(parameters)):\n",
    "    print('%8s: %.2g' %(param_names[i],float(sobol[(i,)])))"
   ]
  },
  {
   "cell_type": "markdown",
   "metadata": {},
   "source": [
    "Total Sobol' indices measure each parameter's contribution to the output variance, including all variance caused by it's interactions (of any order) with any other input variables.\n",
    "\n",
    "We expect $\\sum_{i=1}^d S_{T_i} \\ge 1$. Check this using ``sum()`` or ``np.sum()``."
   ]
  },
  {
   "cell_type": "code",
   "execution_count": 18,
   "metadata": {},
   "outputs": [
    {
     "data": {
      "text/plain": [
       "1.0790724655598465"
      ]
     },
     "execution_count": 18,
     "metadata": {},
     "output_type": "execute_result"
    }
   ],
   "source": [
    "sum(sobol_tot)"
   ]
  },
  {
   "cell_type": "markdown",
   "metadata": {},
   "source": [
    "Note that $\\sum_{i=1}^d S_{T_i} = 1$ only if the model/system is purely additive."
   ]
  }
 ],
 "metadata": {
  "kernelspec": {
   "display_name": "Python 3",
   "language": "python",
   "name": "python3"
  },
  "language_info": {
   "codemirror_mode": {
    "name": "ipython",
    "version": 3
   },
   "file_extension": ".py",
   "mimetype": "text/x-python",
   "name": "python",
   "nbconvert_exporter": "python",
   "pygments_lexer": "ipython3",
   "version": "3.7.0"
  }
 },
 "nbformat": 4,
 "nbformat_minor": 2
}
