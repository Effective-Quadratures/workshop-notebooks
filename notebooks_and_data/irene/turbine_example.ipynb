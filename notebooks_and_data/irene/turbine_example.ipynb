{
 "cells": [
  {
   "cell_type": "code",
   "execution_count": 1,
   "metadata": {},
   "outputs": [],
   "source": [
    "from equadratures import *\n",
    "import numpy as np\n",
    "import matplotlib.pyplot as plt"
   ]
  },
  {
   "cell_type": "markdown",
   "metadata": {},
   "source": [
    "# Without correlations."
   ]
  },
  {
   "cell_type": "code",
   "execution_count": 2,
   "metadata": {},
   "outputs": [],
   "source": [
    "def efficiency(x):\n",
    "    gamma = 1.41\n",
    "    t1 = x[0]\n",
    "    t2 = x[1]\n",
    "    p1 = x[2]\n",
    "    p2 = x[3]\n",
    "    eta =  (t1 - t2) / ( t1 * (  (1.- (p2/p1)**((gamma - 1.)/gamma))) )\n",
    "    return eta * 100.0"
   ]
  },
  {
   "cell_type": "code",
   "execution_count": 3,
   "metadata": {},
   "outputs": [],
   "source": [
    "T01 = 1100.\n",
    "T02 = 800.\n",
    "P01 = 90.\n",
    "P02 = 29."
   ]
  },
  {
   "cell_type": "code",
   "execution_count": 4,
   "metadata": {},
   "outputs": [],
   "source": [
    "t1 = Parameter(order=5, distribution='truncated-gaussian',shape_parameter_A = T01, shape_parameter_B= 0.15, upper = T01*1.1, lower=T01*0.95)\n",
    "t2 = Parameter(order=5, distribution='truncated-gaussian',shape_parameter_A = T02, shape_parameter_B= 0.15, upper = T02*1.1, lower=T02*0.95)\n",
    "p1 = Parameter(order=5, distribution='truncated-gaussian',shape_parameter_A = P01, shape_parameter_B= 0.15, upper = P01*1.1, lower=P01*0.95)\n",
    "p2 = Parameter(order=5, distribution='truncated-gaussian',shape_parameter_A = P02, shape_parameter_B= 0.15, upper = P02*1.1, lower=P02*0.95)"
   ]
  },
  {
   "cell_type": "code",
   "execution_count": 5,
   "metadata": {},
   "outputs": [],
   "source": [
    "myBasis = Basis('total-order')\n",
    "mypoly = Poly(parameters=[t1, t2, p1, p2], basis=myBasis, method='least-squares', sampling_args={'mesh':'tensor-grid',\n",
    "                                                                                       'sampling-ratio': 1.2,\n",
    "                                                                                       'subsampling-algorithm': 'qr'})"
   ]
  },
  {
   "cell_type": "code",
   "execution_count": 6,
   "metadata": {},
   "outputs": [],
   "source": [
    "mypoly.set_model(efficiency)\n",
    "points = mypoly.get_points()"
   ]
  },
  {
   "cell_type": "code",
   "execution_count": 7,
   "metadata": {},
   "outputs": [],
   "source": [
    "mean, var = mypoly.get_mean_and_variance()"
   ]
  },
  {
   "cell_type": "code",
   "execution_count": 8,
   "metadata": {},
   "outputs": [
    {
     "name": "stdout",
     "output_type": "stream",
     "text": [
      "97.20783827013106 2.0154365995939574\n"
     ]
    }
   ],
   "source": [
    "print(mean, np.sqrt(var)*1.96)"
   ]
  },
  {
   "cell_type": "markdown",
   "metadata": {},
   "source": [
    "# With correlations."
   ]
  },
  {
   "cell_type": "code",
   "execution_count": 9,
   "metadata": {},
   "outputs": [],
   "source": [
    "R = np.array([[1.0, 0.9, 0.0, 0.0],\n",
    "              [0.9, 1.0, 0.0, 0.0],\n",
    "              [0.0, 0.0, 1.0, 0.8],\n",
    "              [0.0, 0.0, 0.8, 1.0]])"
   ]
  },
  {
   "cell_type": "code",
   "execution_count": 15,
   "metadata": {},
   "outputs": [],
   "source": [
    "corr = Correlations(mypoly, R)\n",
    "corr_efficiency = corr.set_model(efficiency)\n",
    "#print(corr.get_points())\n",
    "corrpoly = corr.get_transformed_poly()"
   ]
  },
  {
   "cell_type": "code",
   "execution_count": 16,
   "metadata": {},
   "outputs": [
    {
     "name": "stdout",
     "output_type": "stream",
     "text": [
      "97.20191083168606 1.4587454389105623\n"
     ]
    }
   ],
   "source": [
    "mean, var = corrpoly.get_mean_and_variance()\n",
    "print(mean, np.sqrt(var)*1.96)"
   ]
  },
  {
   "cell_type": "markdown",
   "metadata": {},
   "source": [
    "We only consider 2D plots for the temperature!"
   ]
  },
  {
   "cell_type": "code",
   "execution_count": 12,
   "metadata": {},
   "outputs": [
    {
     "data": {
      "image/png": "[encoded data removed]",
      "text/plain": [
       "<Figure size 432x288 with 1 Axes>"
      ]
     },
     "metadata": {
      "needs_background": "light"
     },
     "output_type": "display_data"
    }
   ],
   "source": [
    "correlated_quadrature_points = corr.get_points()\n",
    "standard_quadrature_points = mypoly.get_points()\n",
    "plt.plot(correlated_quadrature_points[:,0], correlated_quadrature_points[:,1], 'o')\n",
    "plt.plot(standard_quadrature_points[:,0], standard_quadrature_points[:,1], 's')\n",
    "plt.xlabel('T1')\n",
    "plt.ylabel('T2')\n",
    "plt.show()"
   ]
  }
 ],
 "metadata": {
  "kernelspec": {
   "display_name": "Python 3",
   "language": "python",
   "name": "python3"
  },
  "language_info": {
   "codemirror_mode": {
    "name": "ipython",
    "version": 3
   },
   "file_extension": ".py",
   "mimetype": "text/x-python",
   "name": "python",
   "nbconvert_exporter": "python",
   "pygments_lexer": "ipython3",
   "version": "3.7.1"
  }
 },
 "nbformat": 4,
 "nbformat_minor": 2
}
