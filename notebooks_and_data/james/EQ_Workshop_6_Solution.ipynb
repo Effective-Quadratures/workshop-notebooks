{
 "cells": [
  {
   "cell_type": "markdown",
   "metadata": {
    "collapsed": true
   },
   "source": [
    "<h1>Surrogate-Based Optimisation</h1>"
   ]
  },
  {
   "cell_type": "code",
   "execution_count": 1,
   "metadata": {},
   "outputs": [],
   "source": [
    "from equadratures import *\n",
    "import numpy as np"
   ]
  },
  {
   "cell_type": "markdown",
   "metadata": {},
   "source": [
    "**Example 1: Constrained optimisation of Poly object with custom constraint functions**\n",
    "\n",
    "We will demonstrate how to use the Optimisation class to solve the following optimisation problem\n",
    "\n",
    "\\begin{eqnarray}\n",
    "    \\min_{s_1,s_2} \t\\quad    \t& f(s_1, s_2) \t\\\\\n",
    "    \\textrm{ subject to } \t& (s_1-1)^3 - s_2 \\leq 5 \t\\\\\n",
    "                            & s_1 + s_1 = 2 \t\t\t\t\\\\\n",
    "                            & -1 \\leq s_1 \\leq 1 \t\t\t\\\\\n",
    "                            & -1 \\leq s_2 \\leq 1.\n",
    "\\end{eqnarray}\n",
    "\n",
    "where $f(s_1, s_2)$ is a Poly object and we will manually define the constraints. In this case, we will again use the 2D Styblinski-Tang function\n",
    "$$f(\\mathbf{s}) = \\frac{1}{2} \\sum_{i=1}^2 s_i^4 - 16s_i^2 + 5s_i$$\n",
    "where each variable $s_1,s_2$ is uniformly distributed between $[-1,1]$. We will use 50 random samples to construct this fourth order Poly object."
   ]
  },
  {
   "cell_type": "code",
   "execution_count": 2,
   "metadata": {},
   "outputs": [],
   "source": [
    "from functions import StyblinskiTang\n",
    "\n",
    "dims = 2\n",
    "N = 50\n",
    "poly_order = 4\n",
    "S = np.random.uniform(-1,1,(N,dims))\n",
    "y = evaluate_model(S, StyblinskiTang)"
   ]
  },
  {
   "cell_type": "markdown",
   "metadata": {},
   "source": [
    "Defining the parameters and basis as before, we can compute the coefficients of the polynomial model via a Poly object."
   ]
  },
  {
   "cell_type": "code",
   "execution_count": 3,
   "metadata": {},
   "outputs": [],
   "source": [
    "my_params = [Parameter(poly_order, distribution='uniform',lower=-1.0, upper=1.0)\\\n",
    " for _ in range(dims)]\n",
    "my_basis = Basis('total-order')\n",
    "my_poly = Poly(my_params, my_basis, method='least-squares', sampling_args={'sample-points':S,\n",
    "                                                                          'sample-outputs':y})\n",
    "my_poly.set_model()"
   ]
  },
  {
   "cell_type": "markdown",
   "metadata": {},
   "source": [
    "Now that the polynomial surrogate model has been constructed for our objective, we can manually define our constraints."
   ]
  },
  {
   "cell_type": "code",
   "execution_count": 4,
   "metadata": {},
   "outputs": [],
   "source": [
    "def NonlinearConstraint(s):\n",
    "    return 5.0 - (s[0]-1.0)**3 + s[1] \n",
    "\n",
    "y1 = evaluate_model(S, NonlinearConstraint)\n",
    "my_params1 = [Parameter(poly_order, distribution='uniform',lower=-1.0, upper=1.0)\\\n",
    " for _ in range(dims)]\n",
    "my_basis = Basis('total-order')\n",
    "my_poly1 = Poly(my_params, my_basis, method='least-squares', sampling_args={'sample-points':S,\n",
    "                                                                          'sample-outputs':y1})\n",
    "my_poly1.set_model()"
   ]
  },
  {
   "cell_type": "markdown",
   "metadata": {},
   "source": [
    "Note that we write nonlinear constraints in the form $g(\\mathbf{s}) \\geq 0$ as this is the form required by Scipy."
   ]
  },
  {
   "cell_type": "code",
   "execution_count": 5,
   "metadata": {},
   "outputs": [
    {
     "name": "stdout",
     "output_type": "stream",
     "text": [
      "Calculated solution: optimal value of -9.999999910249674 at [1.00000001 0.99999998]\n"
     ]
    }
   ],
   "source": [
    "Opt = Optimisation(method='trust-constr')\n",
    "Opt.add_objective(poly=my_poly)\n",
    "Opt.add_nonlinear_ineq_con(poly={'poly': my_poly1, 'bounds': [0, np.inf]})\n",
    "Opt.add_bounds(-np.ones(dims), np.ones(dims))\n",
    "Opt.add_linear_eq_con(np.array([1.0, 1.0]), 2.0)\n",
    "sol = Opt.optimise(np.zeros(dims))\n",
    "print(\"Calculated solution: optimal value of {} at {}\".format(sol['fun'], sol['x']))"
   ]
  },
  {
   "cell_type": "markdown",
   "metadata": {},
   "source": [
    "**Coding Task 1: Surrogate-based optimisation for normalised efficiency of a fan blade**\n",
    "Using the test data provided (independent and identically uniformly distributed and bounded between -1 and 1), create a poly object of order 2 using the 'compressive-sensing' method and use the Optimisation class to maximise this poly object with the constraint that \n",
    "$$-\\mathbf{1} \\leq \\mathbf{s} \\leq \\mathbf{1}$$ \n",
    "using the 'SLSQP' method.\n",
    "\n",
    "HINT: To maximise a Poly object objective, simply write:\n",
    "\n",
    "```python\n",
    "Opt.add_objective(poly=my_poly, maximise=True)\n",
    "```"
   ]
  },
  {
   "cell_type": "code",
   "execution_count": 6,
   "metadata": {
    "scrolled": true
   },
   "outputs": [
    {
     "name": "stdout",
     "output_type": "stream",
     "text": [
      "Calculated solution: optimal value of 0.5600166314216701 at [ 1.          1.         -1.         -1.         -1.         -0.58863369\n",
      " -0.98285137 -1.         -1.         -1.          1.         -1.\n",
      "  1.          1.          0.80602794 -1.         -1.          1.\n",
      "  0.35424525  0.12706446 -1.          1.          1.          1.\n",
      "  1.        ]\n"
     ]
    }
   ],
   "source": [
    "S = np.loadtxt('bladeA_cs_training_inputs.dat')\n",
    "f = np.loadtxt('bladeA_cs_training_outputs.dat')\n",
    "m = S.shape[1]\n",
    "####################################################################################\n",
    "# WRITE YOUR CODE HERE\n",
    "# Define Poly object with 'compressive-sensing' method\n",
    "# Approximately 4 lines\n",
    "my_params = [Parameter(distribution='uniform', lower=-1.0, upper=1.0, order=2) for i in range(m)]\n",
    "my_basis = Basis('total-order')\n",
    "my_poly = Poly(my_params, my_basis, method='compressive-sensing', sampling_args={'sample-points':S, 'sample-outputs':f})\n",
    "my_poly.set_model()\n",
    "# Initialise optimisation problem as 'Opt' using 'SLSQP' method\n",
    "# Approximately 3 lines\n",
    "Opt = Optimisation(method='SLSQP')\n",
    "Opt.add_objective(poly=my_poly, maximise=True)\n",
    "Opt.add_bounds(-np.ones(m), np.ones(m))\n",
    "####################################################################################\n",
    "sol = Opt.optimise(np.zeros(m))\n",
    "print(\"Calculated solution: optimal value of {} at {}\".format(sol['fun'], sol['x']))"
   ]
  },
  {
   "cell_type": "markdown",
   "metadata": {},
   "source": [
    "**Coding Task 2: Using Effective Quadratures to construct a trust-region method**\n",
    "We will use Effective Quadratures and what we have learned about trust-region methods to construct our own simple trust-region method to solve the optimisation problem\n",
    "\n",
    "\\begin{equation}\n",
    "\\begin{split}\n",
    "\\min_{\\mathbf{s}} \\quad & f(\\mathbf{s}) \\\\\n",
    "\\textrm{subject to} \\quad & -\\mathbf{1} \\leq \\mathbf{s} \\leq \\mathbf{1}.\n",
    "\\end{split}\n",
    "\\end{equation}\n",
    "\n",
    "This task is broken up into the following small coding tasks:\n",
    "\n",
    "A) Construct a quadratic model from given sample points $S$ and corresponding function evaluations $f$\n",
    "\n",
    "B) Solve a trust-region subproblem to find a new potential iterate $\\mathbf{s}_{k+1}$"
   ]
  },
  {
   "cell_type": "markdown",
   "metadata": {},
   "source": [
    "**Coding Task 2A: Create quadratic models for trust-region method**\n",
    "\n",
    "Given a set of points $S$, corresponding function evaluations $f$, and trust-region radius $\\Delta_k$, create a function which creates a quadratic model using the 'least-squares' method, with parameters uniformly distributed and bounded within hypercube of radius $\\Delta_k$ centred around the first point of $S$.\n",
    "\n",
    "HINT: Points which are sampled within a hypercube of radius $r$ centred around $\\hat{\\mathbf{s}}$ have a lower bound of $\\hat{s}_i - r$ and an upper bound of $\\hat{s}_i + r$ for each coordinate."
   ]
  },
  {
   "cell_type": "code",
   "execution_count": 7,
   "metadata": {},
   "outputs": [
    {
     "name": "stdout",
     "output_type": "stream",
     "text": [
      "Overwriting build_model.py\n"
     ]
    }
   ],
   "source": [
    "%%writefile build_model.py\n",
    "from equadratures import *\n",
    "\n",
    "def build_model(S,f,del_k):\n",
    "####################################################################################\n",
    "    # WRITE YOUR CODE HERE \n",
    "    # Define Poly object with name 'my_poly' with 'least-squares' method\n",
    "    # Approximately 3 lines\n",
    "    myParameters = [Parameter(distribution='uniform', lower=S[0,i] - del_k, upper=S[0,i] + del_k, order=2) for i in range(S.shape[1])]\n",
    "    myBasis = Basis('total-order')\n",
    "    my_poly = Poly(myParameters, myBasis, method='least-squares', sampling_args={'sample-points':S, 'sample-outputs':f})\n",
    "####################################################################################\n",
    "    my_poly.set_model()\n",
    "    return my_poly"
   ]
  },
  {
   "cell_type": "markdown",
   "metadata": {},
   "source": [
    "**Coding Task 2B: Solving the trust-region subproblem**\n",
    "\n",
    "Using the newly constructed model, current iterate $\\mathbf{s}_k$ and trust-region radius $\\Delta_k$, use the Optimisation class to solve the trust-region subproblem\n",
    "\n",
    "\\begin{equation}\n",
    "\\label{eq:subproblem}\n",
    "\\begin{split}\n",
    "\\min_{\\mathbf{s}} \\quad & m_k(\\mathbf{s}) \\\\\n",
    "\\textrm{subject to} \\quad & \\| \\mathbf{s} - \\mathbf{s}_k \\|_{\\infty} \\leq \\Delta_k \\\\\n",
    "& -\\mathbf{1} \\leq \\mathbf{s} \\leq \\mathbf{1}\n",
    "\\end{split}\n",
    "\\end{equation}\n",
    "\n",
    "using the 'SLSQP' method.\n",
    "\n",
    "HINT: $\\| \\mathbf{A} \\mathbf{x} - \\mathbf{b} \\|_{\\infty} \\leq 1$ is equivalent to $-\\mathbf{1} \\leq \\mathbf{A} \\mathbf{x} - \\mathbf{b} \\leq \\mathbf{1}$"
   ]
  },
  {
   "cell_type": "code",
   "execution_count": 8,
   "metadata": {},
   "outputs": [
    {
     "name": "stdout",
     "output_type": "stream",
     "text": [
      "Overwriting compute_step.py\n"
     ]
    }
   ],
   "source": [
    "%%writefile compute_step.py\n",
    "from equadratures import *\n",
    "import numpy as np \n",
    "\n",
    "def compute_step(s_old,my_poly,del_k):\n",
    "    Opt = Optimisation(method='SLSQP')\n",
    "####################################################################################\n",
    "    # WRITE YOUR CODE HERE \n",
    "    # Add objectives and constraints to the optimisation problem\n",
    "    # Approximately 3 lines\n",
    "    Opt.add_objective(poly=my_poly)\n",
    "    Opt.add_linear_ineq_con(np.eye(s_old.size), s_old-del_k*np.ones(s_old.size), s_old+del_k*np.ones(s_old.size))\n",
    "    Opt.add_bounds(-np.ones(s_old.size),np.ones(s_old.size))\n",
    "    \n",
    "    \n",
    "    \n",
    "    \n",
    "    \n",
    "    \n",
    "#     Opt.add_objective(poly=my_poly)\n",
    "#     Opt.add_bounds(-np.ones(s_old.size),np.ones(s_old.size))\n",
    "#     Opt.add_linear_ineq_con(np.eye(s_old.size), s_old-del_k*np.ones(s_old.size), s_old+del_k*np.ones(s_old.size))\n",
    "####################################################################################\n",
    "    sol = Opt.optimise(s_old)\n",
    "    s_new = sol['x']\n",
    "    m_new = sol['fun']\n",
    "    return s_new, m_new"
   ]
  },
  {
   "cell_type": "markdown",
   "metadata": {},
   "source": [
    "Now that we have written these functions, it is time to test out our trust-region method. Let us begin by again using the Styblinski-Tang function as our objective."
   ]
  },
  {
   "cell_type": "code",
   "execution_count": 9,
   "metadata": {},
   "outputs": [
    {
     "name": "stdout",
     "output_type": "stream",
     "text": [
      "Calculated solution: optimal value of -19.999999999999993 at [-1. -1.]\n"
     ]
    }
   ],
   "source": [
    "from trustregion import TrustRegion\n",
    "\n",
    "TR = TrustRegion(StyblinskiTang)\n",
    "s0 = np.zeros(dims)\n",
    "sopt, fopt = TR.trust_region(s0)\n",
    "print(\"Calculated solution: optimal value of {} at {}\".format(fopt, sopt))"
   ]
  },
  {
   "cell_type": "markdown",
   "metadata": {},
   "source": [
    "Fantastic! Using Effective Quadratures, you have constructed a simple trust-region method to calculate local minima using localised quadratic models! However, how does this method compare to some other optimisation methods?"
   ]
  },
  {
   "cell_type": "code",
   "execution_count": 11,
   "metadata": {
    "scrolled": true
   },
   "outputs": [
    {
     "name": "stdout",
     "output_type": "stream",
     "text": [
      "Using our trust-region method, an optimal value of -19.999999999999993 was found after 21 function evaluations\n",
      "Using COBYLA, an optimal value of -10.0 was found after 13 function evaluations\n",
      "Using trust-constr, an optimal value of -19.991953540944284 was found after 21 function evaluations\n"
     ]
    }
   ],
   "source": [
    "from compare import compare_optimisation\n",
    "        \n",
    "compare_optimisation(StyblinskiTang, s0)"
   ]
  },
  {
   "cell_type": "markdown",
   "metadata": {},
   "source": [
    "We can see that our very simple trust-region method has relatively similar performance to a number of other common optimisation methods for the 2D Styblinski-Tang function. Let us test out this approach for the following:\n",
    "\n",
    "- McCormick function $$f(s_1,s_2) = \\sin(s_1 + s_2) + (s_1 + s_2)^2 - 1.5s_1 + 2.5s_2 +1$$\n",
    "\n",
    "- Himmelblau function $$f(s_1,s_2) = (s_1^2 + s_2 - 11)^2 + (s_1 + s_2^2 - 7)^2$$\n",
    "\n",
    "- Styblinski-Tang function $$f(\\mathbf{s}) = \\frac{1}{2} \\sum_{i=1}^n (s_i^4 - 16s_i^2 + 5s_i)$$ for $n = 4, 8, 16$"
   ]
  },
  {
   "cell_type": "code",
   "execution_count": 13,
   "metadata": {},
   "outputs": [
    {
     "ename": "KeyboardInterrupt",
     "evalue": "",
     "output_type": "error",
     "traceback": [
      "\u001b[0;31m---------------------------------------------------------------------------\u001b[0m",
      "\u001b[0;31mKeyboardInterrupt\u001b[0m                         Traceback (most recent call last)",
      "\u001b[0;32m<ipython-input-13-832be6851e60>\u001b[0m in \u001b[0;36m<module>\u001b[0;34m\u001b[0m\n\u001b[1;32m      4\u001b[0m \u001b[0;31m# Only StyblinskiTang can have dimensions more than 2.\u001b[0m\u001b[0;34m\u001b[0m\u001b[0;34m\u001b[0m\u001b[0;34m\u001b[0m\u001b[0m\n\u001b[1;32m      5\u001b[0m \u001b[0mdims\u001b[0m \u001b[0;34m=\u001b[0m \u001b[0;36m16\u001b[0m\u001b[0;34m\u001b[0m\u001b[0;34m\u001b[0m\u001b[0m\n\u001b[0;32m----> 6\u001b[0;31m \u001b[0mcompare_optimisation\u001b[0m\u001b[0;34m(\u001b[0m\u001b[0mStyblinskiTang\u001b[0m\u001b[0;34m,\u001b[0m \u001b[0mnp\u001b[0m\u001b[0;34m.\u001b[0m\u001b[0mzeros\u001b[0m\u001b[0;34m(\u001b[0m\u001b[0mdims\u001b[0m\u001b[0;34m)\u001b[0m\u001b[0;34m)\u001b[0m\u001b[0;34m\u001b[0m\u001b[0;34m\u001b[0m\u001b[0m\n\u001b[0m\u001b[1;32m      7\u001b[0m \u001b[0;31m####################################################################################\u001b[0m\u001b[0;34m\u001b[0m\u001b[0;34m\u001b[0m\u001b[0;34m\u001b[0m\u001b[0m\n",
      "\u001b[0;32m~/Desktop/github-work/workshop-notebooks/notebooks_and_data/james/compare.py\u001b[0m in \u001b[0;36mcompare_optimisation\u001b[0;34m(fun, s0)\u001b[0m\n\u001b[1;32m     10\u001b[0m     \u001b[0mTR\u001b[0m \u001b[0;34m=\u001b[0m \u001b[0mTrustRegion\u001b[0m\u001b[0;34m(\u001b[0m\u001b[0mfun\u001b[0m\u001b[0;34m)\u001b[0m\u001b[0;34m\u001b[0m\u001b[0;34m\u001b[0m\u001b[0m\n\u001b[1;32m     11\u001b[0m     \u001b[0ms0\u001b[0m \u001b[0;34m=\u001b[0m \u001b[0mnp\u001b[0m\u001b[0;34m.\u001b[0m\u001b[0mzeros\u001b[0m\u001b[0;34m(\u001b[0m\u001b[0mdims\u001b[0m\u001b[0;34m)\u001b[0m\u001b[0;34m\u001b[0m\u001b[0;34m\u001b[0m\u001b[0m\n\u001b[0;32m---> 12\u001b[0;31m     \u001b[0msopt\u001b[0m\u001b[0;34m,\u001b[0m \u001b[0mfopt\u001b[0m \u001b[0;34m=\u001b[0m \u001b[0mTR\u001b[0m\u001b[0;34m.\u001b[0m\u001b[0mtrust_region\u001b[0m\u001b[0;34m(\u001b[0m\u001b[0ms0\u001b[0m\u001b[0;34m)\u001b[0m\u001b[0;34m\u001b[0m\u001b[0;34m\u001b[0m\u001b[0m\n\u001b[0m\u001b[1;32m     13\u001b[0m     \u001b[0mprint\u001b[0m\u001b[0;34m(\u001b[0m\u001b[0;34m\"Using our trust-region method, an optimal value of {} was found after {} function evaluations\"\u001b[0m\u001b[0;34m.\u001b[0m\u001b[0mformat\u001b[0m\u001b[0;34m(\u001b[0m\u001b[0mfopt\u001b[0m\u001b[0;34m,\u001b[0m \u001b[0mTR\u001b[0m\u001b[0;34m.\u001b[0m\u001b[0mnum_evals\u001b[0m\u001b[0;34m)\u001b[0m\u001b[0;34m)\u001b[0m\u001b[0;34m\u001b[0m\u001b[0;34m\u001b[0m\u001b[0m\n\u001b[1;32m     14\u001b[0m \u001b[0;34m\u001b[0m\u001b[0m\n",
      "\u001b[0;32m~/Desktop/github-work/workshop-notebooks/notebooks_and_data/james/trustregion.py\u001b[0m in \u001b[0;36mtrust_region\u001b[0;34m(self, s_old, del_k, eta0, eta1, gam0, gam1, epsilon_c, delkmin, delkmax)\u001b[0m\n\u001b[1;32m    219\u001b[0m         \u001b[0mf_old\u001b[0m \u001b[0;34m=\u001b[0m \u001b[0mself\u001b[0m\u001b[0;34m.\u001b[0m\u001b[0mblackbox_evaluation\u001b[0m\u001b[0;34m(\u001b[0m\u001b[0ms_old\u001b[0m\u001b[0;34m)\u001b[0m\u001b[0;34m\u001b[0m\u001b[0;34m\u001b[0m\u001b[0m\n\u001b[1;32m    220\u001b[0m \u001b[0;31m#       Construct the regression set\u001b[0m\u001b[0;34m\u001b[0m\u001b[0;34m\u001b[0m\u001b[0;34m\u001b[0m\u001b[0m\n\u001b[0;32m--> 221\u001b[0;31m         \u001b[0mS\u001b[0m\u001b[0;34m,\u001b[0m \u001b[0mf\u001b[0m \u001b[0;34m=\u001b[0m \u001b[0mself\u001b[0m\u001b[0;34m.\u001b[0m\u001b[0mregression_set\u001b[0m\u001b[0;34m(\u001b[0m\u001b[0ms_old\u001b[0m\u001b[0;34m,\u001b[0m\u001b[0mf_old\u001b[0m\u001b[0;34m,\u001b[0m\u001b[0mdel_k\u001b[0m\u001b[0;34m)\u001b[0m\u001b[0;34m\u001b[0m\u001b[0;34m\u001b[0m\u001b[0m\n\u001b[0m\u001b[1;32m    222\u001b[0m \u001b[0;31m#       Construct the model and evaluate at current point\u001b[0m\u001b[0;34m\u001b[0m\u001b[0;34m\u001b[0m\u001b[0;34m\u001b[0m\u001b[0m\n\u001b[1;32m    223\u001b[0m         \u001b[0mmy_poly\u001b[0m \u001b[0;34m=\u001b[0m \u001b[0mbuild_model\u001b[0m\u001b[0;34m(\u001b[0m\u001b[0mS\u001b[0m\u001b[0;34m,\u001b[0m\u001b[0mf\u001b[0m\u001b[0;34m,\u001b[0m\u001b[0mdel_k\u001b[0m\u001b[0;34m)\u001b[0m\u001b[0;34m\u001b[0m\u001b[0;34m\u001b[0m\u001b[0m\n",
      "\u001b[0;32m~/Desktop/github-work/workshop-notebooks/notebooks_and_data/james/trustregion.py\u001b[0m in \u001b[0;36mregression_set\u001b[0;34m(self, s_old, f_old, del_k)\u001b[0m\n\u001b[1;32m     67\u001b[0m         \u001b[0mf\u001b[0m \u001b[0;34m=\u001b[0m \u001b[0mnp\u001b[0m\u001b[0;34m.\u001b[0m\u001b[0marray\u001b[0m\u001b[0;34m(\u001b[0m\u001b[0;34m[\u001b[0m\u001b[0;34m[\u001b[0m\u001b[0mf_old\u001b[0m\u001b[0;34m]\u001b[0m\u001b[0;34m]\u001b[0m\u001b[0;34m)\u001b[0m\u001b[0;34m\u001b[0m\u001b[0;34m\u001b[0m\u001b[0m\n\u001b[1;32m     68\u001b[0m \u001b[0;31m#       Find well-poised points\u001b[0m\u001b[0;34m\u001b[0m\u001b[0;34m\u001b[0m\u001b[0;34m\u001b[0m\u001b[0m\n\u001b[0;32m---> 69\u001b[0;31m         \u001b[0mS\u001b[0m\u001b[0;34m,\u001b[0m\u001b[0mf\u001b[0m\u001b[0;34m,\u001b[0m\u001b[0mS_hat\u001b[0m\u001b[0;34m,\u001b[0m\u001b[0mf_hat\u001b[0m \u001b[0;34m=\u001b[0m \u001b[0mself\u001b[0m\u001b[0;34m.\u001b[0m\u001b[0mwell_poised_LU\u001b[0m\u001b[0;34m(\u001b[0m\u001b[0mS\u001b[0m\u001b[0;34m,\u001b[0m\u001b[0mf\u001b[0m\u001b[0;34m,\u001b[0m\u001b[0mS_hat\u001b[0m\u001b[0;34m,\u001b[0m\u001b[0mf_hat\u001b[0m\u001b[0;34m)\u001b[0m\u001b[0;34m\u001b[0m\u001b[0;34m\u001b[0m\u001b[0m\n\u001b[0m\u001b[1;32m     70\u001b[0m \u001b[0;31m#       Include all of the left-over points\u001b[0m\u001b[0;34m\u001b[0m\u001b[0;34m\u001b[0m\u001b[0;34m\u001b[0m\u001b[0m\n\u001b[1;32m     71\u001b[0m         \u001b[0mS\u001b[0m \u001b[0;34m=\u001b[0m \u001b[0mnp\u001b[0m\u001b[0;34m.\u001b[0m\u001b[0mvstack\u001b[0m\u001b[0;34m(\u001b[0m\u001b[0;34m(\u001b[0m\u001b[0mS\u001b[0m\u001b[0;34m,\u001b[0m\u001b[0mS_hat\u001b[0m\u001b[0;34m)\u001b[0m\u001b[0;34m)\u001b[0m\u001b[0;34m\u001b[0m\u001b[0;34m\u001b[0m\u001b[0m\n",
      "\u001b[0;32m~/Desktop/github-work/workshop-notebooks/notebooks_and_data/james/trustregion.py\u001b[0m in \u001b[0;36mwell_poised_LU\u001b[0;34m(self, S, f, S_hat, f_hat)\u001b[0m\n\u001b[1;32m    121\u001b[0m \u001b[0;31m#           point with given index to be next point in regression/interpolation set\u001b[0m\u001b[0;34m\u001b[0m\u001b[0;34m\u001b[0m\u001b[0;34m\u001b[0m\u001b[0m\n\u001b[1;32m    122\u001b[0m             \u001b[0;32mif\u001b[0m \u001b[0mS_hat\u001b[0m\u001b[0;34m.\u001b[0m\u001b[0msize\u001b[0m \u001b[0;34m!=\u001b[0m \u001b[0;36m0\u001b[0m\u001b[0;34m:\u001b[0m\u001b[0;34m\u001b[0m\u001b[0;34m\u001b[0m\u001b[0m\n\u001b[0;32m--> 123\u001b[0;31m                 \u001b[0mM\u001b[0m \u001b[0;34m=\u001b[0m \u001b[0mself\u001b[0m\u001b[0;34m.\u001b[0m\u001b[0mnatural_basis_matrix\u001b[0m\u001b[0;34m(\u001b[0m\u001b[0mS_hat\u001b[0m\u001b[0;34m,\u001b[0m\u001b[0mv\u001b[0m\u001b[0;34m,\u001b[0m\u001b[0mphi_function\u001b[0m\u001b[0;34m)\u001b[0m\u001b[0;34m\u001b[0m\u001b[0;34m\u001b[0m\u001b[0m\n\u001b[0m\u001b[1;32m    124\u001b[0m                 \u001b[0mindex2\u001b[0m \u001b[0;34m=\u001b[0m \u001b[0mnp\u001b[0m\u001b[0;34m.\u001b[0m\u001b[0margmax\u001b[0m\u001b[0;34m(\u001b[0m\u001b[0mM\u001b[0m\u001b[0;34m)\u001b[0m\u001b[0;34m\u001b[0m\u001b[0;34m\u001b[0m\u001b[0m\n\u001b[1;32m    125\u001b[0m                 \u001b[0;32mif\u001b[0m \u001b[0mM\u001b[0m\u001b[0;34m[\u001b[0m\u001b[0mindex2\u001b[0m\u001b[0;34m]\u001b[0m \u001b[0;34m<\u001b[0m \u001b[0mpsi\u001b[0m\u001b[0;34m:\u001b[0m\u001b[0;34m\u001b[0m\u001b[0;34m\u001b[0m\u001b[0m\n",
      "\u001b[0;32m~/Desktop/github-work/workshop-notebooks/notebooks_and_data/james/trustregion.py\u001b[0m in \u001b[0;36mnatural_basis_matrix\u001b[0;34m(self, S, v, phi)\u001b[0m\n\u001b[1;32m    158\u001b[0m         \u001b[0mM\u001b[0m \u001b[0;34m=\u001b[0m \u001b[0;34m[\u001b[0m\u001b[0;34m]\u001b[0m\u001b[0;34m\u001b[0m\u001b[0;34m\u001b[0m\u001b[0m\n\u001b[1;32m    159\u001b[0m         \u001b[0;32mfor\u001b[0m \u001b[0mi\u001b[0m \u001b[0;32min\u001b[0m \u001b[0mrange\u001b[0m\u001b[0;34m(\u001b[0m\u001b[0mS\u001b[0m\u001b[0;34m.\u001b[0m\u001b[0mshape\u001b[0m\u001b[0;34m[\u001b[0m\u001b[0;36m0\u001b[0m\u001b[0;34m]\u001b[0m\u001b[0;34m)\u001b[0m\u001b[0;34m:\u001b[0m\u001b[0;34m\u001b[0m\u001b[0;34m\u001b[0m\u001b[0m\n\u001b[0;32m--> 160\u001b[0;31m             \u001b[0mM\u001b[0m\u001b[0;34m.\u001b[0m\u001b[0mappend\u001b[0m\u001b[0;34m(\u001b[0m\u001b[0mphi\u001b[0m\u001b[0;34m(\u001b[0m\u001b[0mS\u001b[0m\u001b[0;34m[\u001b[0m\u001b[0mi\u001b[0m\u001b[0;34m,\u001b[0m\u001b[0;34m:\u001b[0m\u001b[0;34m]\u001b[0m\u001b[0;34m.\u001b[0m\u001b[0mflatten\u001b[0m\u001b[0;34m(\u001b[0m\u001b[0;34m)\u001b[0m\u001b[0;34m)\u001b[0m\u001b[0;34m)\u001b[0m\u001b[0;34m\u001b[0m\u001b[0;34m\u001b[0m\u001b[0m\n\u001b[0m\u001b[1;32m    161\u001b[0m         \u001b[0mM\u001b[0m \u001b[0;34m=\u001b[0m \u001b[0mnp\u001b[0m\u001b[0;34m.\u001b[0m\u001b[0marray\u001b[0m\u001b[0;34m(\u001b[0m\u001b[0mM\u001b[0m\u001b[0;34m)\u001b[0m\u001b[0;34m\u001b[0m\u001b[0;34m\u001b[0m\u001b[0m\n\u001b[1;32m    162\u001b[0m         \u001b[0mMv_abs\u001b[0m \u001b[0;34m=\u001b[0m \u001b[0mnp\u001b[0m\u001b[0;34m.\u001b[0m\u001b[0mabsolute\u001b[0m\u001b[0;34m(\u001b[0m\u001b[0mnp\u001b[0m\u001b[0;34m.\u001b[0m\u001b[0mdot\u001b[0m\u001b[0;34m(\u001b[0m\u001b[0mM\u001b[0m\u001b[0;34m,\u001b[0m\u001b[0mv\u001b[0m\u001b[0;34m)\u001b[0m\u001b[0;34m)\u001b[0m\u001b[0;34m\u001b[0m\u001b[0;34m\u001b[0m\u001b[0m\n",
      "\u001b[0;32m~/Desktop/github-work/workshop-notebooks/notebooks_and_data/james/trustregion.py\u001b[0m in \u001b[0;36m<lambda>\u001b[0;34m(x)\u001b[0m\n\u001b[1;32m    107\u001b[0m                     \u001b[0mphi\u001b[0m\u001b[0;34m[\u001b[0m\u001b[0mj\u001b[0m\u001b[0;34m]\u001b[0m \u001b[0;34m*=\u001b[0m \u001b[0;34m(\u001b[0m\u001b[0mx\u001b[0m\u001b[0;34m[\u001b[0m\u001b[0mk\u001b[0m\u001b[0;34m]\u001b[0m\u001b[0;34m**\u001b[0m\u001b[0mbasis\u001b[0m\u001b[0;34m[\u001b[0m\u001b[0mj\u001b[0m\u001b[0;34m,\u001b[0m\u001b[0mk\u001b[0m\u001b[0;34m]\u001b[0m\u001b[0;34m)\u001b[0m \u001b[0;34m/\u001b[0m \u001b[0msp\u001b[0m\u001b[0;34m.\u001b[0m\u001b[0mspecial\u001b[0m\u001b[0;34m.\u001b[0m\u001b[0mfactorial\u001b[0m\u001b[0;34m(\u001b[0m\u001b[0mbasis\u001b[0m\u001b[0;34m[\u001b[0m\u001b[0mj\u001b[0m\u001b[0;34m,\u001b[0m\u001b[0mk\u001b[0m\u001b[0;34m]\u001b[0m\u001b[0;34m)\u001b[0m\u001b[0;34m\u001b[0m\u001b[0;34m\u001b[0m\u001b[0m\n\u001b[1;32m    108\u001b[0m             \u001b[0;32mreturn\u001b[0m \u001b[0mphi\u001b[0m\u001b[0;34m\u001b[0m\u001b[0;34m\u001b[0m\u001b[0m\n\u001b[0;32m--> 109\u001b[0;31m         \u001b[0mphi_function\u001b[0m \u001b[0;34m=\u001b[0m \u001b[0;32mlambda\u001b[0m \u001b[0mx\u001b[0m\u001b[0;34m:\u001b[0m \u001b[0mnatural_basis_function\u001b[0m\u001b[0;34m(\u001b[0m\u001b[0mx\u001b[0m\u001b[0;34m,\u001b[0m \u001b[0mbasis\u001b[0m\u001b[0;34m)\u001b[0m\u001b[0;34m\u001b[0m\u001b[0;34m\u001b[0m\u001b[0m\n\u001b[0m\u001b[1;32m    110\u001b[0m \u001b[0;31m#       Initialise U matrix of LU factorisation of M matrix (see Conn et al.)\u001b[0m\u001b[0;34m\u001b[0m\u001b[0;34m\u001b[0m\u001b[0;34m\u001b[0m\u001b[0m\n\u001b[1;32m    111\u001b[0m         \u001b[0mU\u001b[0m \u001b[0;34m=\u001b[0m \u001b[0mnp\u001b[0m\u001b[0;34m.\u001b[0m\u001b[0mzeros\u001b[0m\u001b[0;34m(\u001b[0m\u001b[0;34m(\u001b[0m\u001b[0mself\u001b[0m\u001b[0;34m.\u001b[0m\u001b[0mq\u001b[0m\u001b[0;34m,\u001b[0m\u001b[0mself\u001b[0m\u001b[0;34m.\u001b[0m\u001b[0mq\u001b[0m\u001b[0;34m)\u001b[0m\u001b[0;34m)\u001b[0m\u001b[0;34m\u001b[0m\u001b[0;34m\u001b[0m\u001b[0m\n",
      "\u001b[0;32m~/Desktop/github-work/workshop-notebooks/notebooks_and_data/james/trustregion.py\u001b[0m in \u001b[0;36mnatural_basis_function\u001b[0;34m(x, basis)\u001b[0m\n\u001b[1;32m    105\u001b[0m                 \u001b[0mphi\u001b[0m\u001b[0;34m[\u001b[0m\u001b[0mj\u001b[0m\u001b[0;34m]\u001b[0m \u001b[0;34m=\u001b[0m \u001b[0;36m1.0\u001b[0m\u001b[0;34m\u001b[0m\u001b[0;34m\u001b[0m\u001b[0m\n\u001b[1;32m    106\u001b[0m                 \u001b[0;32mfor\u001b[0m \u001b[0mk\u001b[0m \u001b[0;32min\u001b[0m \u001b[0mrange\u001b[0m\u001b[0;34m(\u001b[0m\u001b[0mbasis\u001b[0m\u001b[0;34m.\u001b[0m\u001b[0mshape\u001b[0m\u001b[0;34m[\u001b[0m\u001b[0;36m1\u001b[0m\u001b[0;34m]\u001b[0m\u001b[0;34m)\u001b[0m\u001b[0;34m:\u001b[0m\u001b[0;34m\u001b[0m\u001b[0;34m\u001b[0m\u001b[0m\n\u001b[0;32m--> 107\u001b[0;31m                     \u001b[0mphi\u001b[0m\u001b[0;34m[\u001b[0m\u001b[0mj\u001b[0m\u001b[0;34m]\u001b[0m \u001b[0;34m*=\u001b[0m \u001b[0;34m(\u001b[0m\u001b[0mx\u001b[0m\u001b[0;34m[\u001b[0m\u001b[0mk\u001b[0m\u001b[0;34m]\u001b[0m\u001b[0;34m**\u001b[0m\u001b[0mbasis\u001b[0m\u001b[0;34m[\u001b[0m\u001b[0mj\u001b[0m\u001b[0;34m,\u001b[0m\u001b[0mk\u001b[0m\u001b[0;34m]\u001b[0m\u001b[0;34m)\u001b[0m \u001b[0;34m/\u001b[0m \u001b[0msp\u001b[0m\u001b[0;34m.\u001b[0m\u001b[0mspecial\u001b[0m\u001b[0;34m.\u001b[0m\u001b[0mfactorial\u001b[0m\u001b[0;34m(\u001b[0m\u001b[0mbasis\u001b[0m\u001b[0;34m[\u001b[0m\u001b[0mj\u001b[0m\u001b[0;34m,\u001b[0m\u001b[0mk\u001b[0m\u001b[0;34m]\u001b[0m\u001b[0;34m)\u001b[0m\u001b[0;34m\u001b[0m\u001b[0;34m\u001b[0m\u001b[0m\n\u001b[0m\u001b[1;32m    108\u001b[0m             \u001b[0;32mreturn\u001b[0m \u001b[0mphi\u001b[0m\u001b[0;34m\u001b[0m\u001b[0;34m\u001b[0m\u001b[0m\n\u001b[1;32m    109\u001b[0m         \u001b[0mphi_function\u001b[0m \u001b[0;34m=\u001b[0m \u001b[0;32mlambda\u001b[0m \u001b[0mx\u001b[0m\u001b[0;34m:\u001b[0m \u001b[0mnatural_basis_function\u001b[0m\u001b[0;34m(\u001b[0m\u001b[0mx\u001b[0m\u001b[0;34m,\u001b[0m \u001b[0mbasis\u001b[0m\u001b[0;34m)\u001b[0m\u001b[0;34m\u001b[0m\u001b[0;34m\u001b[0m\u001b[0m\n",
      "\u001b[0;32m/Library/Frameworks/Python.framework/Versions/3.7/lib/python3.7/site-packages/scipy-1.2.0-py3.7-macosx-10.9-x86_64.egg/scipy/special/basic.py\u001b[0m in \u001b[0;36mfactorial\u001b[0;34m(n, exact)\u001b[0m\n\u001b[1;32m   2106\u001b[0m         \u001b[0mn\u001b[0m \u001b[0;34m=\u001b[0m \u001b[0masarray\u001b[0m\u001b[0;34m(\u001b[0m\u001b[0mn\u001b[0m\u001b[0;34m)\u001b[0m\u001b[0;34m\u001b[0m\u001b[0;34m\u001b[0m\u001b[0m\n\u001b[1;32m   2107\u001b[0m         \u001b[0mvals\u001b[0m \u001b[0;34m=\u001b[0m \u001b[0mgamma\u001b[0m\u001b[0;34m(\u001b[0m\u001b[0mn\u001b[0m \u001b[0;34m+\u001b[0m \u001b[0;36m1\u001b[0m\u001b[0;34m)\u001b[0m\u001b[0;34m\u001b[0m\u001b[0;34m\u001b[0m\u001b[0m\n\u001b[0;32m-> 2108\u001b[0;31m         \u001b[0;32mreturn\u001b[0m \u001b[0mwhere\u001b[0m\u001b[0;34m(\u001b[0m\u001b[0mn\u001b[0m \u001b[0;34m>=\u001b[0m \u001b[0;36m0\u001b[0m\u001b[0;34m,\u001b[0m \u001b[0mvals\u001b[0m\u001b[0;34m,\u001b[0m \u001b[0;36m0\u001b[0m\u001b[0;34m)\u001b[0m\u001b[0;34m\u001b[0m\u001b[0;34m\u001b[0m\u001b[0m\n\u001b[0m\u001b[1;32m   2109\u001b[0m \u001b[0;34m\u001b[0m\u001b[0m\n\u001b[1;32m   2110\u001b[0m \u001b[0;34m\u001b[0m\u001b[0m\n",
      "\u001b[0;31mKeyboardInterrupt\u001b[0m: "
     ]
    }
   ],
   "source": [
    "from functions import Mccormick, Himmelblau\n",
    "####################################################################################\n",
    "# Feel free to change the function or the dims variable to match the problem. \n",
    "# Only StyblinskiTang can have dimensions more than 2.\n",
    "dims = 16    \n",
    "compare_optimisation(StyblinskiTang, np.zeros(dims))\n",
    "####################################################################################"
   ]
  },
  {
   "cell_type": "code",
   "execution_count": null,
   "metadata": {},
   "outputs": [],
   "source": []
  }
 ],
 "metadata": {
  "kernelspec": {
   "display_name": "Python 3",
   "language": "python",
   "name": "python3"
  },
  "language_info": {
   "codemirror_mode": {
    "name": "ipython",
    "version": 3
   },
   "file_extension": ".py",
   "mimetype": "text/x-python",
   "name": "python",
   "nbconvert_exporter": "python",
   "pygments_lexer": "ipython3",
   "version": "3.7.1"
  }
 },
 "nbformat": 4,
 "nbformat_minor": 1
}
