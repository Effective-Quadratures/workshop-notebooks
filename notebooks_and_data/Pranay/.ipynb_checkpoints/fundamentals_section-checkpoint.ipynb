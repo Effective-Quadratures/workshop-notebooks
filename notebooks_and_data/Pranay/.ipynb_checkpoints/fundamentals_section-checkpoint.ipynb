{
 "cells": [
  {
   "cell_type": "code",
   "execution_count": 1,
   "metadata": {},
   "outputs": [],
   "source": [
    "from equadratures import *\n",
    "import numpy as np\n",
    "import matplotlib.pyplot as plt"
   ]
  },
  {
   "cell_type": "markdown",
   "metadata": {},
   "source": [
    "We are going to integrate the function\n",
    "\n",
    "\\begin{equation}\n",
    "f(s_1, s_2) = \\text{exp} \\left(s_1 + s_2 \\right)\n",
    "\\end{equation}\n",
    "\n",
    "over $\\mathcal{S} \\subset [-1, 1]^2$ assuming that $\\omega \\left(s_1 \\right)$ and $\\omega \\left(s_2 \\right)$ are uniform distributions. The true integral is given by\n",
    "\n",
    "\\begin{equation}\n",
    "\\text{exp} \\left(-2 \\right) + \\text{exp} \\left(2 \\right) - 2 = 5.5244\n",
    "\\end{equation}"
   ]
  },
  {
   "cell_type": "code",
   "execution_count": 7,
   "metadata": {},
   "outputs": [],
   "source": [
    "s1 = Parameter(distribution='uniform', lower=-1., upper=1, order=2)\n",
    "s2 = Parameter(distribution='uniform', lower=-1., upper=1, order=2)"
   ]
  },
  {
   "cell_type": "code",
   "execution_count": 8,
   "metadata": {},
   "outputs": [],
   "source": [
    "def fun(s):\n",
    "    return np.exp(s[0] + s[1])"
   ]
  },
  {
   "cell_type": "code",
   "execution_count": 9,
   "metadata": {},
   "outputs": [],
   "source": [
    "mybasis = Basis('tensor-grid')\n",
    "mypoly = Poly(parameters=[s1, s2], basis=mybasis, method='numerical-integration')"
   ]
  },
  {
   "cell_type": "code",
   "execution_count": 10,
   "metadata": {},
   "outputs": [],
   "source": [
    "quadrature_points, quadrature_weights = mypoly.get_points_and_weights()\n",
    "model_evaluations = evaluate_model(quadrature_points, fun) \n",
    "M = len(quadrature_weights)\n",
    "integral = 4 * float(model_evaluations.reshape(1, M) @ quadrature_weights.reshape(M, 1) )"
   ]
  },
  {
   "cell_type": "code",
   "execution_count": 11,
   "metadata": {},
   "outputs": [
    {
     "name": "stdout",
     "output_type": "stream",
     "text": [
      "5.524083678316986\n"
     ]
    }
   ],
   "source": [
    "print(integral)"
   ]
  }
 ],
 "metadata": {
  "kernelspec": {
   "display_name": "Python 3",
   "language": "python",
   "name": "python3"
  },
  "language_info": {
   "codemirror_mode": {
    "name": "ipython",
    "version": 3
   },
   "file_extension": ".py",
   "mimetype": "text/x-python",
   "name": "python",
   "nbconvert_exporter": "python",
   "pygments_lexer": "ipython3",
   "version": "3.7.1"
  }
 },
 "nbformat": 4,
 "nbformat_minor": 2
}
